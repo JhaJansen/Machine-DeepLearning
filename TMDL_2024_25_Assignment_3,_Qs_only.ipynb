{
  "cells": [
    {
      "cell_type": "markdown",
      "id": "43554d37",
      "metadata": {
        "id": "43554d37"
      },
      "source": [
        "# Turing Machine and Deep Learning 2023\n",
        "\n",
        "## Assignment Unupervised ML\n",
        "\n",
        "This notebook is meant for you to review and reflect on the content of Lecture 3, which was mainly about unsupervised learning problems. As with last week, this notebook should not be too much quantitative work (lines of code) but keep in mind that running this notebook may take a longer time than you may be used to for python programs (*training good models take time!*)\n",
        "\n",
        "### Handing in your Assignment\n",
        "\n",
        "Git is an invaluable resource to researchers and developers, and thus for this course, all course material will be (additionally) shared on GitHub. Though there is a tiny bit of a learning curve, this is worth the effort. To hand in your assignment (applicable to all weeks):\n",
        "\n",
        "1. Create a folder called \"Week 2\" and copy this notebook and any other files or data that may be needed.\n",
        "2. Finish the notebook and commit and push regularly. Your final commit before the deadline will be graded.\n",
        "\n",
        "\n",
        "### Grading\n",
        "\n",
        "Each one of the (sub-)questions below will be graded either 0 (insufficient), 1 (sufficient) or 2 (good). If $N$ is the number of sub-questions, and $p_i$ is your score for sub-question $i$, your total grade $G$ for this assignment is:\n",
        "$$G=\\frac{1}{2 N}\\sum_{i=0}^{N}p_i$$"
      ]
    },
    {
      "cell_type": "code",
      "execution_count": null,
      "id": "52fbab8b",
      "metadata": {
        "id": "52fbab8b"
      },
      "outputs": [],
      "source": [
        "# load common libraries\n",
        "import numpy as np                 # maths\n",
        "import matplotlib.pyplot as plt    # plotting\n",
        "import pandas as pd                # data manipulation\n",
        "from tqdm import tqdm              # loading bar\n",
        "from time import perf_counter      # timer"
      ]
    },
    {
      "cell_type": "markdown",
      "id": "bf4c3a0a",
      "metadata": {
        "id": "bf4c3a0a"
      },
      "source": [
        "\n",
        "\n",
        "```\n",
        "# This is formatted as code\n",
        "```\n",
        "\n",
        "# Q1 Loading and preprocessing data\n",
        "\n",
        "In this repository, you should find a file called `tmdb_5000_movies.csv` which is information from a subset of movies on The Movie Database."
      ]
    },
    {
      "cell_type": "markdown",
      "id": "40715541",
      "metadata": {
        "id": "40715541"
      },
      "source": [
        "### Q.1.1\n",
        "Use pandas to read in the csv file (refer to [read_csv](https://pandas.pydata.org/docs/reference/api/pandas.read_csv.html) if you're unfamiliar)."
      ]
    },
    {
      "cell_type": "code",
      "execution_count": null,
      "id": "c10a5202",
      "metadata": {
        "id": "c10a5202",
        "colab": {
          "base_uri": "https://localhost:8080/",
          "height": 1000
        },
        "outputId": "98e6c4af-8ae8-40da-dcdb-c48f214fb333"
      },
      "outputs": [
        {
          "output_type": "execute_result",
          "data": {
            "text/plain": [
              "         budget                                             genres  \\\n",
              "0     237000000  [{\"id\": 28, \"name\": \"Action\"}, {\"id\": 12, \"nam...   \n",
              "1     300000000  [{\"id\": 12, \"name\": \"Adventure\"}, {\"id\": 14, \"...   \n",
              "2     245000000  [{\"id\": 28, \"name\": \"Action\"}, {\"id\": 12, \"nam...   \n",
              "3     250000000  [{\"id\": 28, \"name\": \"Action\"}, {\"id\": 80, \"nam...   \n",
              "4     260000000  [{\"id\": 28, \"name\": \"Action\"}, {\"id\": 12, \"nam...   \n",
              "...         ...                                                ...   \n",
              "4798     220000  [{\"id\": 28, \"name\": \"Action\"}, {\"id\": 80, \"nam...   \n",
              "4799       9000  [{\"id\": 35, \"name\": \"Comedy\"}, {\"id\": 10749, \"...   \n",
              "4800          0  [{\"id\": 35, \"name\": \"Comedy\"}, {\"id\": 18, \"nam...   \n",
              "4801          0                                                 []   \n",
              "4802          0                [{\"id\": 99, \"name\": \"Documentary\"}]   \n",
              "\n",
              "                                               homepage      id  \\\n",
              "0                           http://www.avatarmovie.com/   19995   \n",
              "1          http://disney.go.com/disneypictures/pirates/     285   \n",
              "2           http://www.sonypictures.com/movies/spectre/  206647   \n",
              "3                    http://www.thedarkknightrises.com/   49026   \n",
              "4                  http://movies.disney.com/john-carter   49529   \n",
              "...                                                 ...     ...   \n",
              "4798                                                NaN    9367   \n",
              "4799                                                NaN   72766   \n",
              "4800  http://www.hallmarkchannel.com/signedsealeddel...  231617   \n",
              "4801                        http://shanghaicalling.com/  126186   \n",
              "4802                                                NaN   25975   \n",
              "\n",
              "                                               keywords original_language  \\\n",
              "0     [{\"id\": 1463, \"name\": \"culture clash\"}, {\"id\":...                en   \n",
              "1     [{\"id\": 270, \"name\": \"ocean\"}, {\"id\": 726, \"na...                en   \n",
              "2     [{\"id\": 470, \"name\": \"spy\"}, {\"id\": 818, \"name...                en   \n",
              "3     [{\"id\": 849, \"name\": \"dc comics\"}, {\"id\": 853,...                en   \n",
              "4     [{\"id\": 818, \"name\": \"based on novel\"}, {\"id\":...                en   \n",
              "...                                                 ...               ...   \n",
              "4798  [{\"id\": 5616, \"name\": \"united states\\u2013mexi...                es   \n",
              "4799                                                 []                en   \n",
              "4800  [{\"id\": 248, \"name\": \"date\"}, {\"id\": 699, \"nam...                en   \n",
              "4801                                                 []                en   \n",
              "4802  [{\"id\": 1523, \"name\": \"obsession\"}, {\"id\": 224...                en   \n",
              "\n",
              "                                original_title  \\\n",
              "0                                       Avatar   \n",
              "1     Pirates of the Caribbean: At World's End   \n",
              "2                                      Spectre   \n",
              "3                        The Dark Knight Rises   \n",
              "4                                  John Carter   \n",
              "...                                        ...   \n",
              "4798                               El Mariachi   \n",
              "4799                                 Newlyweds   \n",
              "4800                 Signed, Sealed, Delivered   \n",
              "4801                          Shanghai Calling   \n",
              "4802                         My Date with Drew   \n",
              "\n",
              "                                               overview  popularity  \\\n",
              "0     In the 22nd century, a paraplegic Marine is di...  150.437577   \n",
              "1     Captain Barbossa, long believed to be dead, ha...  139.082615   \n",
              "2     A cryptic message from Bond’s past sends him o...  107.376788   \n",
              "3     Following the death of District Attorney Harve...  112.312950   \n",
              "4     John Carter is a war-weary, former military ca...   43.926995   \n",
              "...                                                 ...         ...   \n",
              "4798  El Mariachi just wants to play his guitar and ...   14.269792   \n",
              "4799  A newlywed couple's honeymoon is upended by th...    0.642552   \n",
              "4800  \"Signed, Sealed, Delivered\" introduces a dedic...    1.444476   \n",
              "4801  When ambitious New York attorney Sam is sent t...    0.857008   \n",
              "4802  Ever since the second grade when he first saw ...    1.929883   \n",
              "\n",
              "                                   production_companies  \\\n",
              "0     [{\"name\": \"Ingenious Film Partners\", \"id\": 289...   \n",
              "1     [{\"name\": \"Walt Disney Pictures\", \"id\": 2}, {\"...   \n",
              "2     [{\"name\": \"Columbia Pictures\", \"id\": 5}, {\"nam...   \n",
              "3     [{\"name\": \"Legendary Pictures\", \"id\": 923}, {\"...   \n",
              "4           [{\"name\": \"Walt Disney Pictures\", \"id\": 2}]   \n",
              "...                                                 ...   \n",
              "4798           [{\"name\": \"Columbia Pictures\", \"id\": 5}]   \n",
              "4799                                                 []   \n",
              "4800  [{\"name\": \"Front Street Pictures\", \"id\": 3958}...   \n",
              "4801                                                 []   \n",
              "4802  [{\"name\": \"rusty bear entertainment\", \"id\": 87...   \n",
              "\n",
              "                                   production_countries release_date  \\\n",
              "0     [{\"iso_3166_1\": \"US\", \"name\": \"United States o...   2009-12-10   \n",
              "1     [{\"iso_3166_1\": \"US\", \"name\": \"United States o...   2007-05-19   \n",
              "2     [{\"iso_3166_1\": \"GB\", \"name\": \"United Kingdom\"...   2015-10-26   \n",
              "3     [{\"iso_3166_1\": \"US\", \"name\": \"United States o...   2012-07-16   \n",
              "4     [{\"iso_3166_1\": \"US\", \"name\": \"United States o...   2012-03-07   \n",
              "...                                                 ...          ...   \n",
              "4798  [{\"iso_3166_1\": \"MX\", \"name\": \"Mexico\"}, {\"iso...   1992-09-04   \n",
              "4799                                                 []   2011-12-26   \n",
              "4800  [{\"iso_3166_1\": \"US\", \"name\": \"United States o...   2013-10-13   \n",
              "4801  [{\"iso_3166_1\": \"US\", \"name\": \"United States o...   2012-05-03   \n",
              "4802  [{\"iso_3166_1\": \"US\", \"name\": \"United States o...   2005-08-05   \n",
              "\n",
              "         revenue  runtime                                   spoken_languages  \\\n",
              "0     2787965087    162.0  [{\"iso_639_1\": \"en\", \"name\": \"English\"}, {\"iso...   \n",
              "1      961000000    169.0           [{\"iso_639_1\": \"en\", \"name\": \"English\"}]   \n",
              "2      880674609    148.0  [{\"iso_639_1\": \"fr\", \"name\": \"Fran\\u00e7ais\"},...   \n",
              "3     1084939099    165.0           [{\"iso_639_1\": \"en\", \"name\": \"English\"}]   \n",
              "4      284139100    132.0           [{\"iso_639_1\": \"en\", \"name\": \"English\"}]   \n",
              "...          ...      ...                                                ...   \n",
              "4798     2040920     81.0      [{\"iso_639_1\": \"es\", \"name\": \"Espa\\u00f1ol\"}]   \n",
              "4799           0     85.0                                                 []   \n",
              "4800           0    120.0           [{\"iso_639_1\": \"en\", \"name\": \"English\"}]   \n",
              "4801           0     98.0           [{\"iso_639_1\": \"en\", \"name\": \"English\"}]   \n",
              "4802           0     90.0           [{\"iso_639_1\": \"en\", \"name\": \"English\"}]   \n",
              "\n",
              "        status                                            tagline  \\\n",
              "0     Released                        Enter the World of Pandora.   \n",
              "1     Released     At the end of the world, the adventure begins.   \n",
              "2     Released                              A Plan No One Escapes   \n",
              "3     Released                                    The Legend Ends   \n",
              "4     Released               Lost in our world, found in another.   \n",
              "...        ...                                                ...   \n",
              "4798  Released  He didn't come looking for trouble, but troubl...   \n",
              "4799  Released  A newlywed couple's honeymoon is upended by th...   \n",
              "4800  Released                                                NaN   \n",
              "4801  Released                           A New Yorker in Shanghai   \n",
              "4802  Released                                                NaN   \n",
              "\n",
              "                                         title  vote_average  vote_count  \n",
              "0                                       Avatar           7.2       11800  \n",
              "1     Pirates of the Caribbean: At World's End           6.9        4500  \n",
              "2                                      Spectre           6.3        4466  \n",
              "3                        The Dark Knight Rises           7.6        9106  \n",
              "4                                  John Carter           6.1        2124  \n",
              "...                                        ...           ...         ...  \n",
              "4798                               El Mariachi           6.6         238  \n",
              "4799                                 Newlyweds           5.9           5  \n",
              "4800                 Signed, Sealed, Delivered           7.0           6  \n",
              "4801                          Shanghai Calling           5.7           7  \n",
              "4802                         My Date with Drew           6.3          16  \n",
              "\n",
              "[4803 rows x 20 columns]"
            ],
            "text/html": [
              "\n",
              "  <div id=\"df-83755e51-3190-451d-8abd-10e7ade68b2c\" class=\"colab-df-container\">\n",
              "    <div>\n",
              "<style scoped>\n",
              "    .dataframe tbody tr th:only-of-type {\n",
              "        vertical-align: middle;\n",
              "    }\n",
              "\n",
              "    .dataframe tbody tr th {\n",
              "        vertical-align: top;\n",
              "    }\n",
              "\n",
              "    .dataframe thead th {\n",
              "        text-align: right;\n",
              "    }\n",
              "</style>\n",
              "<table border=\"1\" class=\"dataframe\">\n",
              "  <thead>\n",
              "    <tr style=\"text-align: right;\">\n",
              "      <th></th>\n",
              "      <th>budget</th>\n",
              "      <th>genres</th>\n",
              "      <th>homepage</th>\n",
              "      <th>id</th>\n",
              "      <th>keywords</th>\n",
              "      <th>original_language</th>\n",
              "      <th>original_title</th>\n",
              "      <th>overview</th>\n",
              "      <th>popularity</th>\n",
              "      <th>production_companies</th>\n",
              "      <th>production_countries</th>\n",
              "      <th>release_date</th>\n",
              "      <th>revenue</th>\n",
              "      <th>runtime</th>\n",
              "      <th>spoken_languages</th>\n",
              "      <th>status</th>\n",
              "      <th>tagline</th>\n",
              "      <th>title</th>\n",
              "      <th>vote_average</th>\n",
              "      <th>vote_count</th>\n",
              "    </tr>\n",
              "  </thead>\n",
              "  <tbody>\n",
              "    <tr>\n",
              "      <th>0</th>\n",
              "      <td>237000000</td>\n",
              "      <td>[{\"id\": 28, \"name\": \"Action\"}, {\"id\": 12, \"nam...</td>\n",
              "      <td>http://www.avatarmovie.com/</td>\n",
              "      <td>19995</td>\n",
              "      <td>[{\"id\": 1463, \"name\": \"culture clash\"}, {\"id\":...</td>\n",
              "      <td>en</td>\n",
              "      <td>Avatar</td>\n",
              "      <td>In the 22nd century, a paraplegic Marine is di...</td>\n",
              "      <td>150.437577</td>\n",
              "      <td>[{\"name\": \"Ingenious Film Partners\", \"id\": 289...</td>\n",
              "      <td>[{\"iso_3166_1\": \"US\", \"name\": \"United States o...</td>\n",
              "      <td>2009-12-10</td>\n",
              "      <td>2787965087</td>\n",
              "      <td>162.0</td>\n",
              "      <td>[{\"iso_639_1\": \"en\", \"name\": \"English\"}, {\"iso...</td>\n",
              "      <td>Released</td>\n",
              "      <td>Enter the World of Pandora.</td>\n",
              "      <td>Avatar</td>\n",
              "      <td>7.2</td>\n",
              "      <td>11800</td>\n",
              "    </tr>\n",
              "    <tr>\n",
              "      <th>1</th>\n",
              "      <td>300000000</td>\n",
              "      <td>[{\"id\": 12, \"name\": \"Adventure\"}, {\"id\": 14, \"...</td>\n",
              "      <td>http://disney.go.com/disneypictures/pirates/</td>\n",
              "      <td>285</td>\n",
              "      <td>[{\"id\": 270, \"name\": \"ocean\"}, {\"id\": 726, \"na...</td>\n",
              "      <td>en</td>\n",
              "      <td>Pirates of the Caribbean: At World's End</td>\n",
              "      <td>Captain Barbossa, long believed to be dead, ha...</td>\n",
              "      <td>139.082615</td>\n",
              "      <td>[{\"name\": \"Walt Disney Pictures\", \"id\": 2}, {\"...</td>\n",
              "      <td>[{\"iso_3166_1\": \"US\", \"name\": \"United States o...</td>\n",
              "      <td>2007-05-19</td>\n",
              "      <td>961000000</td>\n",
              "      <td>169.0</td>\n",
              "      <td>[{\"iso_639_1\": \"en\", \"name\": \"English\"}]</td>\n",
              "      <td>Released</td>\n",
              "      <td>At the end of the world, the adventure begins.</td>\n",
              "      <td>Pirates of the Caribbean: At World's End</td>\n",
              "      <td>6.9</td>\n",
              "      <td>4500</td>\n",
              "    </tr>\n",
              "    <tr>\n",
              "      <th>2</th>\n",
              "      <td>245000000</td>\n",
              "      <td>[{\"id\": 28, \"name\": \"Action\"}, {\"id\": 12, \"nam...</td>\n",
              "      <td>http://www.sonypictures.com/movies/spectre/</td>\n",
              "      <td>206647</td>\n",
              "      <td>[{\"id\": 470, \"name\": \"spy\"}, {\"id\": 818, \"name...</td>\n",
              "      <td>en</td>\n",
              "      <td>Spectre</td>\n",
              "      <td>A cryptic message from Bond’s past sends him o...</td>\n",
              "      <td>107.376788</td>\n",
              "      <td>[{\"name\": \"Columbia Pictures\", \"id\": 5}, {\"nam...</td>\n",
              "      <td>[{\"iso_3166_1\": \"GB\", \"name\": \"United Kingdom\"...</td>\n",
              "      <td>2015-10-26</td>\n",
              "      <td>880674609</td>\n",
              "      <td>148.0</td>\n",
              "      <td>[{\"iso_639_1\": \"fr\", \"name\": \"Fran\\u00e7ais\"},...</td>\n",
              "      <td>Released</td>\n",
              "      <td>A Plan No One Escapes</td>\n",
              "      <td>Spectre</td>\n",
              "      <td>6.3</td>\n",
              "      <td>4466</td>\n",
              "    </tr>\n",
              "    <tr>\n",
              "      <th>3</th>\n",
              "      <td>250000000</td>\n",
              "      <td>[{\"id\": 28, \"name\": \"Action\"}, {\"id\": 80, \"nam...</td>\n",
              "      <td>http://www.thedarkknightrises.com/</td>\n",
              "      <td>49026</td>\n",
              "      <td>[{\"id\": 849, \"name\": \"dc comics\"}, {\"id\": 853,...</td>\n",
              "      <td>en</td>\n",
              "      <td>The Dark Knight Rises</td>\n",
              "      <td>Following the death of District Attorney Harve...</td>\n",
              "      <td>112.312950</td>\n",
              "      <td>[{\"name\": \"Legendary Pictures\", \"id\": 923}, {\"...</td>\n",
              "      <td>[{\"iso_3166_1\": \"US\", \"name\": \"United States o...</td>\n",
              "      <td>2012-07-16</td>\n",
              "      <td>1084939099</td>\n",
              "      <td>165.0</td>\n",
              "      <td>[{\"iso_639_1\": \"en\", \"name\": \"English\"}]</td>\n",
              "      <td>Released</td>\n",
              "      <td>The Legend Ends</td>\n",
              "      <td>The Dark Knight Rises</td>\n",
              "      <td>7.6</td>\n",
              "      <td>9106</td>\n",
              "    </tr>\n",
              "    <tr>\n",
              "      <th>4</th>\n",
              "      <td>260000000</td>\n",
              "      <td>[{\"id\": 28, \"name\": \"Action\"}, {\"id\": 12, \"nam...</td>\n",
              "      <td>http://movies.disney.com/john-carter</td>\n",
              "      <td>49529</td>\n",
              "      <td>[{\"id\": 818, \"name\": \"based on novel\"}, {\"id\":...</td>\n",
              "      <td>en</td>\n",
              "      <td>John Carter</td>\n",
              "      <td>John Carter is a war-weary, former military ca...</td>\n",
              "      <td>43.926995</td>\n",
              "      <td>[{\"name\": \"Walt Disney Pictures\", \"id\": 2}]</td>\n",
              "      <td>[{\"iso_3166_1\": \"US\", \"name\": \"United States o...</td>\n",
              "      <td>2012-03-07</td>\n",
              "      <td>284139100</td>\n",
              "      <td>132.0</td>\n",
              "      <td>[{\"iso_639_1\": \"en\", \"name\": \"English\"}]</td>\n",
              "      <td>Released</td>\n",
              "      <td>Lost in our world, found in another.</td>\n",
              "      <td>John Carter</td>\n",
              "      <td>6.1</td>\n",
              "      <td>2124</td>\n",
              "    </tr>\n",
              "    <tr>\n",
              "      <th>...</th>\n",
              "      <td>...</td>\n",
              "      <td>...</td>\n",
              "      <td>...</td>\n",
              "      <td>...</td>\n",
              "      <td>...</td>\n",
              "      <td>...</td>\n",
              "      <td>...</td>\n",
              "      <td>...</td>\n",
              "      <td>...</td>\n",
              "      <td>...</td>\n",
              "      <td>...</td>\n",
              "      <td>...</td>\n",
              "      <td>...</td>\n",
              "      <td>...</td>\n",
              "      <td>...</td>\n",
              "      <td>...</td>\n",
              "      <td>...</td>\n",
              "      <td>...</td>\n",
              "      <td>...</td>\n",
              "      <td>...</td>\n",
              "    </tr>\n",
              "    <tr>\n",
              "      <th>4798</th>\n",
              "      <td>220000</td>\n",
              "      <td>[{\"id\": 28, \"name\": \"Action\"}, {\"id\": 80, \"nam...</td>\n",
              "      <td>NaN</td>\n",
              "      <td>9367</td>\n",
              "      <td>[{\"id\": 5616, \"name\": \"united states\\u2013mexi...</td>\n",
              "      <td>es</td>\n",
              "      <td>El Mariachi</td>\n",
              "      <td>El Mariachi just wants to play his guitar and ...</td>\n",
              "      <td>14.269792</td>\n",
              "      <td>[{\"name\": \"Columbia Pictures\", \"id\": 5}]</td>\n",
              "      <td>[{\"iso_3166_1\": \"MX\", \"name\": \"Mexico\"}, {\"iso...</td>\n",
              "      <td>1992-09-04</td>\n",
              "      <td>2040920</td>\n",
              "      <td>81.0</td>\n",
              "      <td>[{\"iso_639_1\": \"es\", \"name\": \"Espa\\u00f1ol\"}]</td>\n",
              "      <td>Released</td>\n",
              "      <td>He didn't come looking for trouble, but troubl...</td>\n",
              "      <td>El Mariachi</td>\n",
              "      <td>6.6</td>\n",
              "      <td>238</td>\n",
              "    </tr>\n",
              "    <tr>\n",
              "      <th>4799</th>\n",
              "      <td>9000</td>\n",
              "      <td>[{\"id\": 35, \"name\": \"Comedy\"}, {\"id\": 10749, \"...</td>\n",
              "      <td>NaN</td>\n",
              "      <td>72766</td>\n",
              "      <td>[]</td>\n",
              "      <td>en</td>\n",
              "      <td>Newlyweds</td>\n",
              "      <td>A newlywed couple's honeymoon is upended by th...</td>\n",
              "      <td>0.642552</td>\n",
              "      <td>[]</td>\n",
              "      <td>[]</td>\n",
              "      <td>2011-12-26</td>\n",
              "      <td>0</td>\n",
              "      <td>85.0</td>\n",
              "      <td>[]</td>\n",
              "      <td>Released</td>\n",
              "      <td>A newlywed couple's honeymoon is upended by th...</td>\n",
              "      <td>Newlyweds</td>\n",
              "      <td>5.9</td>\n",
              "      <td>5</td>\n",
              "    </tr>\n",
              "    <tr>\n",
              "      <th>4800</th>\n",
              "      <td>0</td>\n",
              "      <td>[{\"id\": 35, \"name\": \"Comedy\"}, {\"id\": 18, \"nam...</td>\n",
              "      <td>http://www.hallmarkchannel.com/signedsealeddel...</td>\n",
              "      <td>231617</td>\n",
              "      <td>[{\"id\": 248, \"name\": \"date\"}, {\"id\": 699, \"nam...</td>\n",
              "      <td>en</td>\n",
              "      <td>Signed, Sealed, Delivered</td>\n",
              "      <td>\"Signed, Sealed, Delivered\" introduces a dedic...</td>\n",
              "      <td>1.444476</td>\n",
              "      <td>[{\"name\": \"Front Street Pictures\", \"id\": 3958}...</td>\n",
              "      <td>[{\"iso_3166_1\": \"US\", \"name\": \"United States o...</td>\n",
              "      <td>2013-10-13</td>\n",
              "      <td>0</td>\n",
              "      <td>120.0</td>\n",
              "      <td>[{\"iso_639_1\": \"en\", \"name\": \"English\"}]</td>\n",
              "      <td>Released</td>\n",
              "      <td>NaN</td>\n",
              "      <td>Signed, Sealed, Delivered</td>\n",
              "      <td>7.0</td>\n",
              "      <td>6</td>\n",
              "    </tr>\n",
              "    <tr>\n",
              "      <th>4801</th>\n",
              "      <td>0</td>\n",
              "      <td>[]</td>\n",
              "      <td>http://shanghaicalling.com/</td>\n",
              "      <td>126186</td>\n",
              "      <td>[]</td>\n",
              "      <td>en</td>\n",
              "      <td>Shanghai Calling</td>\n",
              "      <td>When ambitious New York attorney Sam is sent t...</td>\n",
              "      <td>0.857008</td>\n",
              "      <td>[]</td>\n",
              "      <td>[{\"iso_3166_1\": \"US\", \"name\": \"United States o...</td>\n",
              "      <td>2012-05-03</td>\n",
              "      <td>0</td>\n",
              "      <td>98.0</td>\n",
              "      <td>[{\"iso_639_1\": \"en\", \"name\": \"English\"}]</td>\n",
              "      <td>Released</td>\n",
              "      <td>A New Yorker in Shanghai</td>\n",
              "      <td>Shanghai Calling</td>\n",
              "      <td>5.7</td>\n",
              "      <td>7</td>\n",
              "    </tr>\n",
              "    <tr>\n",
              "      <th>4802</th>\n",
              "      <td>0</td>\n",
              "      <td>[{\"id\": 99, \"name\": \"Documentary\"}]</td>\n",
              "      <td>NaN</td>\n",
              "      <td>25975</td>\n",
              "      <td>[{\"id\": 1523, \"name\": \"obsession\"}, {\"id\": 224...</td>\n",
              "      <td>en</td>\n",
              "      <td>My Date with Drew</td>\n",
              "      <td>Ever since the second grade when he first saw ...</td>\n",
              "      <td>1.929883</td>\n",
              "      <td>[{\"name\": \"rusty bear entertainment\", \"id\": 87...</td>\n",
              "      <td>[{\"iso_3166_1\": \"US\", \"name\": \"United States o...</td>\n",
              "      <td>2005-08-05</td>\n",
              "      <td>0</td>\n",
              "      <td>90.0</td>\n",
              "      <td>[{\"iso_639_1\": \"en\", \"name\": \"English\"}]</td>\n",
              "      <td>Released</td>\n",
              "      <td>NaN</td>\n",
              "      <td>My Date with Drew</td>\n",
              "      <td>6.3</td>\n",
              "      <td>16</td>\n",
              "    </tr>\n",
              "  </tbody>\n",
              "</table>\n",
              "<p>4803 rows × 20 columns</p>\n",
              "</div>\n",
              "    <div class=\"colab-df-buttons\">\n",
              "\n",
              "  <div class=\"colab-df-container\">\n",
              "    <button class=\"colab-df-convert\" onclick=\"convertToInteractive('df-83755e51-3190-451d-8abd-10e7ade68b2c')\"\n",
              "            title=\"Convert this dataframe to an interactive table.\"\n",
              "            style=\"display:none;\">\n",
              "\n",
              "  <svg xmlns=\"http://www.w3.org/2000/svg\" height=\"24px\" viewBox=\"0 -960 960 960\">\n",
              "    <path d=\"M120-120v-720h720v720H120Zm60-500h600v-160H180v160Zm220 220h160v-160H400v160Zm0 220h160v-160H400v160ZM180-400h160v-160H180v160Zm440 0h160v-160H620v160ZM180-180h160v-160H180v160Zm440 0h160v-160H620v160Z\"/>\n",
              "  </svg>\n",
              "    </button>\n",
              "\n",
              "  <style>\n",
              "    .colab-df-container {\n",
              "      display:flex;\n",
              "      gap: 12px;\n",
              "    }\n",
              "\n",
              "    .colab-df-convert {\n",
              "      background-color: #E8F0FE;\n",
              "      border: none;\n",
              "      border-radius: 50%;\n",
              "      cursor: pointer;\n",
              "      display: none;\n",
              "      fill: #1967D2;\n",
              "      height: 32px;\n",
              "      padding: 0 0 0 0;\n",
              "      width: 32px;\n",
              "    }\n",
              "\n",
              "    .colab-df-convert:hover {\n",
              "      background-color: #E2EBFA;\n",
              "      box-shadow: 0px 1px 2px rgba(60, 64, 67, 0.3), 0px 1px 3px 1px rgba(60, 64, 67, 0.15);\n",
              "      fill: #174EA6;\n",
              "    }\n",
              "\n",
              "    .colab-df-buttons div {\n",
              "      margin-bottom: 4px;\n",
              "    }\n",
              "\n",
              "    [theme=dark] .colab-df-convert {\n",
              "      background-color: #3B4455;\n",
              "      fill: #D2E3FC;\n",
              "    }\n",
              "\n",
              "    [theme=dark] .colab-df-convert:hover {\n",
              "      background-color: #434B5C;\n",
              "      box-shadow: 0px 1px 3px 1px rgba(0, 0, 0, 0.15);\n",
              "      filter: drop-shadow(0px 1px 2px rgba(0, 0, 0, 0.3));\n",
              "      fill: #FFFFFF;\n",
              "    }\n",
              "  </style>\n",
              "\n",
              "    <script>\n",
              "      const buttonEl =\n",
              "        document.querySelector('#df-83755e51-3190-451d-8abd-10e7ade68b2c button.colab-df-convert');\n",
              "      buttonEl.style.display =\n",
              "        google.colab.kernel.accessAllowed ? 'block' : 'none';\n",
              "\n",
              "      async function convertToInteractive(key) {\n",
              "        const element = document.querySelector('#df-83755e51-3190-451d-8abd-10e7ade68b2c');\n",
              "        const dataTable =\n",
              "          await google.colab.kernel.invokeFunction('convertToInteractive',\n",
              "                                                    [key], {});\n",
              "        if (!dataTable) return;\n",
              "\n",
              "        const docLinkHtml = 'Like what you see? Visit the ' +\n",
              "          '<a target=\"_blank\" href=https://colab.research.google.com/notebooks/data_table.ipynb>data table notebook</a>'\n",
              "          + ' to learn more about interactive tables.';\n",
              "        element.innerHTML = '';\n",
              "        dataTable['output_type'] = 'display_data';\n",
              "        await google.colab.output.renderOutput(dataTable, element);\n",
              "        const docLink = document.createElement('div');\n",
              "        docLink.innerHTML = docLinkHtml;\n",
              "        element.appendChild(docLink);\n",
              "      }\n",
              "    </script>\n",
              "  </div>\n",
              "\n",
              "\n",
              "<div id=\"df-b7f1a4f0-fc4a-4bb1-928c-12adee1b80a4\">\n",
              "  <button class=\"colab-df-quickchart\" onclick=\"quickchart('df-b7f1a4f0-fc4a-4bb1-928c-12adee1b80a4')\"\n",
              "            title=\"Suggest charts\"\n",
              "            style=\"display:none;\">\n",
              "\n",
              "<svg xmlns=\"http://www.w3.org/2000/svg\" height=\"24px\"viewBox=\"0 0 24 24\"\n",
              "     width=\"24px\">\n",
              "    <g>\n",
              "        <path d=\"M19 3H5c-1.1 0-2 .9-2 2v14c0 1.1.9 2 2 2h14c1.1 0 2-.9 2-2V5c0-1.1-.9-2-2-2zM9 17H7v-7h2v7zm4 0h-2V7h2v10zm4 0h-2v-4h2v4z\"/>\n",
              "    </g>\n",
              "</svg>\n",
              "  </button>\n",
              "\n",
              "<style>\n",
              "  .colab-df-quickchart {\n",
              "      --bg-color: #E8F0FE;\n",
              "      --fill-color: #1967D2;\n",
              "      --hover-bg-color: #E2EBFA;\n",
              "      --hover-fill-color: #174EA6;\n",
              "      --disabled-fill-color: #AAA;\n",
              "      --disabled-bg-color: #DDD;\n",
              "  }\n",
              "\n",
              "  [theme=dark] .colab-df-quickchart {\n",
              "      --bg-color: #3B4455;\n",
              "      --fill-color: #D2E3FC;\n",
              "      --hover-bg-color: #434B5C;\n",
              "      --hover-fill-color: #FFFFFF;\n",
              "      --disabled-bg-color: #3B4455;\n",
              "      --disabled-fill-color: #666;\n",
              "  }\n",
              "\n",
              "  .colab-df-quickchart {\n",
              "    background-color: var(--bg-color);\n",
              "    border: none;\n",
              "    border-radius: 50%;\n",
              "    cursor: pointer;\n",
              "    display: none;\n",
              "    fill: var(--fill-color);\n",
              "    height: 32px;\n",
              "    padding: 0;\n",
              "    width: 32px;\n",
              "  }\n",
              "\n",
              "  .colab-df-quickchart:hover {\n",
              "    background-color: var(--hover-bg-color);\n",
              "    box-shadow: 0 1px 2px rgba(60, 64, 67, 0.3), 0 1px 3px 1px rgba(60, 64, 67, 0.15);\n",
              "    fill: var(--button-hover-fill-color);\n",
              "  }\n",
              "\n",
              "  .colab-df-quickchart-complete:disabled,\n",
              "  .colab-df-quickchart-complete:disabled:hover {\n",
              "    background-color: var(--disabled-bg-color);\n",
              "    fill: var(--disabled-fill-color);\n",
              "    box-shadow: none;\n",
              "  }\n",
              "\n",
              "  .colab-df-spinner {\n",
              "    border: 2px solid var(--fill-color);\n",
              "    border-color: transparent;\n",
              "    border-bottom-color: var(--fill-color);\n",
              "    animation:\n",
              "      spin 1s steps(1) infinite;\n",
              "  }\n",
              "\n",
              "  @keyframes spin {\n",
              "    0% {\n",
              "      border-color: transparent;\n",
              "      border-bottom-color: var(--fill-color);\n",
              "      border-left-color: var(--fill-color);\n",
              "    }\n",
              "    20% {\n",
              "      border-color: transparent;\n",
              "      border-left-color: var(--fill-color);\n",
              "      border-top-color: var(--fill-color);\n",
              "    }\n",
              "    30% {\n",
              "      border-color: transparent;\n",
              "      border-left-color: var(--fill-color);\n",
              "      border-top-color: var(--fill-color);\n",
              "      border-right-color: var(--fill-color);\n",
              "    }\n",
              "    40% {\n",
              "      border-color: transparent;\n",
              "      border-right-color: var(--fill-color);\n",
              "      border-top-color: var(--fill-color);\n",
              "    }\n",
              "    60% {\n",
              "      border-color: transparent;\n",
              "      border-right-color: var(--fill-color);\n",
              "    }\n",
              "    80% {\n",
              "      border-color: transparent;\n",
              "      border-right-color: var(--fill-color);\n",
              "      border-bottom-color: var(--fill-color);\n",
              "    }\n",
              "    90% {\n",
              "      border-color: transparent;\n",
              "      border-bottom-color: var(--fill-color);\n",
              "    }\n",
              "  }\n",
              "</style>\n",
              "\n",
              "  <script>\n",
              "    async function quickchart(key) {\n",
              "      const quickchartButtonEl =\n",
              "        document.querySelector('#' + key + ' button');\n",
              "      quickchartButtonEl.disabled = true;  // To prevent multiple clicks.\n",
              "      quickchartButtonEl.classList.add('colab-df-spinner');\n",
              "      try {\n",
              "        const charts = await google.colab.kernel.invokeFunction(\n",
              "            'suggestCharts', [key], {});\n",
              "      } catch (error) {\n",
              "        console.error('Error during call to suggestCharts:', error);\n",
              "      }\n",
              "      quickchartButtonEl.classList.remove('colab-df-spinner');\n",
              "      quickchartButtonEl.classList.add('colab-df-quickchart-complete');\n",
              "    }\n",
              "    (() => {\n",
              "      let quickchartButtonEl =\n",
              "        document.querySelector('#df-b7f1a4f0-fc4a-4bb1-928c-12adee1b80a4 button');\n",
              "      quickchartButtonEl.style.display =\n",
              "        google.colab.kernel.accessAllowed ? 'block' : 'none';\n",
              "    })();\n",
              "  </script>\n",
              "</div>\n",
              "\n",
              "  <div id=\"id_6302e45d-41d4-44dd-b9bd-573dfed1aa90\">\n",
              "    <style>\n",
              "      .colab-df-generate {\n",
              "        background-color: #E8F0FE;\n",
              "        border: none;\n",
              "        border-radius: 50%;\n",
              "        cursor: pointer;\n",
              "        display: none;\n",
              "        fill: #1967D2;\n",
              "        height: 32px;\n",
              "        padding: 0 0 0 0;\n",
              "        width: 32px;\n",
              "      }\n",
              "\n",
              "      .colab-df-generate:hover {\n",
              "        background-color: #E2EBFA;\n",
              "        box-shadow: 0px 1px 2px rgba(60, 64, 67, 0.3), 0px 1px 3px 1px rgba(60, 64, 67, 0.15);\n",
              "        fill: #174EA6;\n",
              "      }\n",
              "\n",
              "      [theme=dark] .colab-df-generate {\n",
              "        background-color: #3B4455;\n",
              "        fill: #D2E3FC;\n",
              "      }\n",
              "\n",
              "      [theme=dark] .colab-df-generate:hover {\n",
              "        background-color: #434B5C;\n",
              "        box-shadow: 0px 1px 3px 1px rgba(0, 0, 0, 0.15);\n",
              "        filter: drop-shadow(0px 1px 2px rgba(0, 0, 0, 0.3));\n",
              "        fill: #FFFFFF;\n",
              "      }\n",
              "    </style>\n",
              "    <button class=\"colab-df-generate\" onclick=\"generateWithVariable('df')\"\n",
              "            title=\"Generate code using this dataframe.\"\n",
              "            style=\"display:none;\">\n",
              "\n",
              "  <svg xmlns=\"http://www.w3.org/2000/svg\" height=\"24px\"viewBox=\"0 0 24 24\"\n",
              "       width=\"24px\">\n",
              "    <path d=\"M7,19H8.4L18.45,9,17,7.55,7,17.6ZM5,21V16.75L18.45,3.32a2,2,0,0,1,2.83,0l1.4,1.43a1.91,1.91,0,0,1,.58,1.4,1.91,1.91,0,0,1-.58,1.4L9.25,21ZM18.45,9,17,7.55Zm-12,3A5.31,5.31,0,0,0,4.9,8.1,5.31,5.31,0,0,0,1,6.5,5.31,5.31,0,0,0,4.9,4.9,5.31,5.31,0,0,0,6.5,1,5.31,5.31,0,0,0,8.1,4.9,5.31,5.31,0,0,0,12,6.5,5.46,5.46,0,0,0,6.5,12Z\"/>\n",
              "  </svg>\n",
              "    </button>\n",
              "    <script>\n",
              "      (() => {\n",
              "      const buttonEl =\n",
              "        document.querySelector('#id_6302e45d-41d4-44dd-b9bd-573dfed1aa90 button.colab-df-generate');\n",
              "      buttonEl.style.display =\n",
              "        google.colab.kernel.accessAllowed ? 'block' : 'none';\n",
              "\n",
              "      buttonEl.onclick = () => {\n",
              "        google.colab.notebook.generateWithVariable('df');\n",
              "      }\n",
              "      })();\n",
              "    </script>\n",
              "  </div>\n",
              "\n",
              "    </div>\n",
              "  </div>\n"
            ],
            "application/vnd.google.colaboratory.intrinsic+json": {
              "type": "dataframe",
              "variable_name": "df",
              "summary": "{\n  \"name\": \"df\",\n  \"rows\": 4803,\n  \"fields\": [\n    {\n      \"column\": \"budget\",\n      \"properties\": {\n        \"dtype\": \"number\",\n        \"std\": 40722391,\n        \"min\": 0,\n        \"max\": 380000000,\n        \"num_unique_values\": 436,\n        \"samples\": [\n          439000,\n          68000000,\n          700000\n        ],\n        \"semantic_type\": \"\",\n        \"description\": \"\"\n      }\n    },\n    {\n      \"column\": \"genres\",\n      \"properties\": {\n        \"dtype\": \"category\",\n        \"num_unique_values\": 1175,\n        \"samples\": [\n          \"[{\\\"id\\\": 14, \\\"name\\\": \\\"Fantasy\\\"}, {\\\"id\\\": 12, \\\"name\\\": \\\"Adventure\\\"}, {\\\"id\\\": 16, \\\"name\\\": \\\"Animation\\\"}]\",\n          \"[{\\\"id\\\": 28, \\\"name\\\": \\\"Action\\\"}, {\\\"id\\\": 35, \\\"name\\\": \\\"Comedy\\\"}, {\\\"id\\\": 80, \\\"name\\\": \\\"Crime\\\"}, {\\\"id\\\": 18, \\\"name\\\": \\\"Drama\\\"}]\",\n          \"[{\\\"id\\\": 12, \\\"name\\\": \\\"Adventure\\\"}, {\\\"id\\\": 16, \\\"name\\\": \\\"Animation\\\"}, {\\\"id\\\": 10751, \\\"name\\\": \\\"Family\\\"}, {\\\"id\\\": 14, \\\"name\\\": \\\"Fantasy\\\"}, {\\\"id\\\": 878, \\\"name\\\": \\\"Science Fiction\\\"}]\"\n        ],\n        \"semantic_type\": \"\",\n        \"description\": \"\"\n      }\n    },\n    {\n      \"column\": \"homepage\",\n      \"properties\": {\n        \"dtype\": \"category\",\n        \"num_unique_values\": 1691,\n        \"samples\": [\n          \"https://www.warnerbros.com/running-scared\",\n          \"http://www.51birchstreet.com/index.php\",\n          \"http://movies2.foxjapan.com/glee/\"\n        ],\n        \"semantic_type\": \"\",\n        \"description\": \"\"\n      }\n    },\n    {\n      \"column\": \"id\",\n      \"properties\": {\n        \"dtype\": \"number\",\n        \"std\": 88694,\n        \"min\": 5,\n        \"max\": 459488,\n        \"num_unique_values\": 4803,\n        \"samples\": [\n          8427,\n          13006,\n          18041\n        ],\n        \"semantic_type\": \"\",\n        \"description\": \"\"\n      }\n    },\n    {\n      \"column\": \"keywords\",\n      \"properties\": {\n        \"dtype\": \"string\",\n        \"num_unique_values\": 4222,\n        \"samples\": [\n          \"[{\\\"id\\\": 782, \\\"name\\\": \\\"assassin\\\"}, {\\\"id\\\": 1872, \\\"name\\\": \\\"loss of father\\\"}, {\\\"id\\\": 2908, \\\"name\\\": \\\"secret society\\\"}, {\\\"id\\\": 3045, \\\"name\\\": \\\"mission of murder\\\"}, {\\\"id\\\": 9748, \\\"name\\\": \\\"revenge\\\"}]\",\n          \"[{\\\"id\\\": 2987, \\\"name\\\": \\\"gang war\\\"}, {\\\"id\\\": 4942, \\\"name\\\": \\\"victim of murder\\\"}, {\\\"id\\\": 5332, \\\"name\\\": \\\"greed\\\"}, {\\\"id\\\": 6062, \\\"name\\\": \\\"hostility\\\"}, {\\\"id\\\": 156212, \\\"name\\\": \\\"spaghetti western\\\"}]\",\n          \"[{\\\"id\\\": 703, \\\"name\\\": \\\"detective\\\"}, {\\\"id\\\": 1299, \\\"name\\\": \\\"monster\\\"}, {\\\"id\\\": 6101, \\\"name\\\": \\\"engine\\\"}, {\\\"id\\\": 10988, \\\"name\\\": \\\"based on tv series\\\"}, {\\\"id\\\": 15162, \\\"name\\\": \\\"dog\\\"}]\"\n        ],\n        \"semantic_type\": \"\",\n        \"description\": \"\"\n      }\n    },\n    {\n      \"column\": \"original_language\",\n      \"properties\": {\n        \"dtype\": \"category\",\n        \"num_unique_values\": 37,\n        \"samples\": [\n          \"xx\",\n          \"ta\",\n          \"es\"\n        ],\n        \"semantic_type\": \"\",\n        \"description\": \"\"\n      }\n    },\n    {\n      \"column\": \"original_title\",\n      \"properties\": {\n        \"dtype\": \"string\",\n        \"num_unique_values\": 4801,\n        \"samples\": [\n          \"I Spy\",\n          \"Love Letters\",\n          \"Sleepover\"\n        ],\n        \"semantic_type\": \"\",\n        \"description\": \"\"\n      }\n    },\n    {\n      \"column\": \"overview\",\n      \"properties\": {\n        \"dtype\": \"string\",\n        \"num_unique_values\": 4800,\n        \"samples\": [\n          \"When the Switchblade, the most sophisticated prototype stealth fighter created yet, is stolen from the U.S. government, one of the United States' top spies, Alex Scott, is called to action. What he doesn't expect is to get teamed up with a cocky civilian, World Class Boxing Champion Kelly Robinson, on a dangerous top secret espionage mission. Their assignment: using equal parts skill and humor, catch Arnold Gundars, one of the world's most successful arms dealers.\",\n          \"When \\\"street smart\\\" rapper Christopher \\\"C-Note\\\" Hawkins (Big Boi) applies for a membership to all-white Carolina Pines Country Club, the establishment's proprietors are hardly ready to oblige him.\",\n          \"As their first year of high school looms ahead, best friends Julie, Hannah, Yancy and Farrah have one last summer sleepover. Little do they know they're about to embark on the adventure of a lifetime. Desperate to shed their nerdy status, they take part in a night-long scavenger hunt that pits them against their popular archrivals. Everything under the sun goes on -- from taking Yancy's father's car to sneaking into nightclubs!\"\n        ],\n        \"semantic_type\": \"\",\n        \"description\": \"\"\n      }\n    },\n    {\n      \"column\": \"popularity\",\n      \"properties\": {\n        \"dtype\": \"number\",\n        \"std\": 31.816649749537806,\n        \"min\": 0.0,\n        \"max\": 875.581305,\n        \"num_unique_values\": 4802,\n        \"samples\": [\n          13.267631,\n          0.010909,\n          5.842299\n        ],\n        \"semantic_type\": \"\",\n        \"description\": \"\"\n      }\n    },\n    {\n      \"column\": \"production_companies\",\n      \"properties\": {\n        \"dtype\": \"string\",\n        \"num_unique_values\": 3697,\n        \"samples\": [\n          \"[{\\\"name\\\": \\\"Paramount Pictures\\\", \\\"id\\\": 4}, {\\\"name\\\": \\\"Cherry Alley Productions\\\", \\\"id\\\": 2232}]\",\n          \"[{\\\"name\\\": \\\"Twentieth Century Fox Film Corporation\\\", \\\"id\\\": 306}, {\\\"name\\\": \\\"Dune Entertainment\\\", \\\"id\\\": 444}, {\\\"name\\\": \\\"Regency Enterprises\\\", \\\"id\\\": 508}, {\\\"name\\\": \\\"Guy Walks into a Bar Productions\\\", \\\"id\\\": 2645}, {\\\"name\\\": \\\"Deep River Productions\\\", \\\"id\\\": 2646}, {\\\"name\\\": \\\"Friendly Films (II)\\\", \\\"id\\\": 81136}]\",\n          \"[{\\\"name\\\": \\\"Twentieth Century Fox Film Corporation\\\", \\\"id\\\": 306}]\"\n        ],\n        \"semantic_type\": \"\",\n        \"description\": \"\"\n      }\n    },\n    {\n      \"column\": \"production_countries\",\n      \"properties\": {\n        \"dtype\": \"category\",\n        \"num_unique_values\": 469,\n        \"samples\": [\n          \"[{\\\"iso_3166_1\\\": \\\"ES\\\", \\\"name\\\": \\\"Spain\\\"}, {\\\"iso_3166_1\\\": \\\"GB\\\", \\\"name\\\": \\\"United Kingdom\\\"}, {\\\"iso_3166_1\\\": \\\"US\\\", \\\"name\\\": \\\"United States of America\\\"}, {\\\"iso_3166_1\\\": \\\"FR\\\", \\\"name\\\": \\\"France\\\"}]\",\n          \"[{\\\"iso_3166_1\\\": \\\"US\\\", \\\"name\\\": \\\"United States of America\\\"}, {\\\"iso_3166_1\\\": \\\"CA\\\", \\\"name\\\": \\\"Canada\\\"}, {\\\"iso_3166_1\\\": \\\"DE\\\", \\\"name\\\": \\\"Germany\\\"}]\",\n          \"[{\\\"iso_3166_1\\\": \\\"DE\\\", \\\"name\\\": \\\"Germany\\\"}, {\\\"iso_3166_1\\\": \\\"ES\\\", \\\"name\\\": \\\"Spain\\\"}, {\\\"iso_3166_1\\\": \\\"GB\\\", \\\"name\\\": \\\"United Kingdom\\\"}, {\\\"iso_3166_1\\\": \\\"US\\\", \\\"name\\\": \\\"United States of America\\\"}]\"\n        ],\n        \"semantic_type\": \"\",\n        \"description\": \"\"\n      }\n    },\n    {\n      \"column\": \"release_date\",\n      \"properties\": {\n        \"dtype\": \"object\",\n        \"num_unique_values\": 3280,\n        \"samples\": [\n          \"1966-10-16\",\n          \"1987-07-31\",\n          \"1993-09-23\"\n        ],\n        \"semantic_type\": \"\",\n        \"description\": \"\"\n      }\n    },\n    {\n      \"column\": \"revenue\",\n      \"properties\": {\n        \"dtype\": \"number\",\n        \"std\": 162857100,\n        \"min\": 0,\n        \"max\": 2787965087,\n        \"num_unique_values\": 3297,\n        \"samples\": [\n          11833696,\n          10462500,\n          17807569\n        ],\n        \"semantic_type\": \"\",\n        \"description\": \"\"\n      }\n    },\n    {\n      \"column\": \"runtime\",\n      \"properties\": {\n        \"dtype\": \"number\",\n        \"std\": 22.611934588844207,\n        \"min\": 0.0,\n        \"max\": 338.0,\n        \"num_unique_values\": 156,\n        \"samples\": [\n          74.0,\n          85.0,\n          170.0\n        ],\n        \"semantic_type\": \"\",\n        \"description\": \"\"\n      }\n    },\n    {\n      \"column\": \"spoken_languages\",\n      \"properties\": {\n        \"dtype\": \"category\",\n        \"num_unique_values\": 544,\n        \"samples\": [\n          \"[{\\\"iso_639_1\\\": \\\"es\\\", \\\"name\\\": \\\"Espa\\\\u00f1ol\\\"}, {\\\"iso_639_1\\\": \\\"en\\\", \\\"name\\\": \\\"English\\\"}, {\\\"iso_639_1\\\": \\\"fr\\\", \\\"name\\\": \\\"Fran\\\\u00e7ais\\\"}, {\\\"iso_639_1\\\": \\\"hu\\\", \\\"name\\\": \\\"Magyar\\\"}]\",\n          \"[{\\\"iso_639_1\\\": \\\"en\\\", \\\"name\\\": \\\"English\\\"}, {\\\"iso_639_1\\\": \\\"it\\\", \\\"name\\\": \\\"Italiano\\\"}, {\\\"iso_639_1\\\": \\\"pt\\\", \\\"name\\\": \\\"Portugu\\\\u00eas\\\"}]\",\n          \"[{\\\"iso_639_1\\\": \\\"de\\\", \\\"name\\\": \\\"Deutsch\\\"}, {\\\"iso_639_1\\\": \\\"it\\\", \\\"name\\\": \\\"Italiano\\\"}, {\\\"iso_639_1\\\": \\\"la\\\", \\\"name\\\": \\\"Latin\\\"}, {\\\"iso_639_1\\\": \\\"pl\\\", \\\"name\\\": \\\"Polski\\\"}]\"\n        ],\n        \"semantic_type\": \"\",\n        \"description\": \"\"\n      }\n    },\n    {\n      \"column\": \"status\",\n      \"properties\": {\n        \"dtype\": \"category\",\n        \"num_unique_values\": 3,\n        \"samples\": [\n          \"Released\",\n          \"Post Production\",\n          \"Rumored\"\n        ],\n        \"semantic_type\": \"\",\n        \"description\": \"\"\n      }\n    },\n    {\n      \"column\": \"tagline\",\n      \"properties\": {\n        \"dtype\": \"string\",\n        \"num_unique_values\": 3944,\n        \"samples\": [\n          \"When you're 17, every day is war.\",\n          \"An Unspeakable Horror. A Creative Genius. Captured For Eternity.\",\n          \"May the schwartz be with you\"\n        ],\n        \"semantic_type\": \"\",\n        \"description\": \"\"\n      }\n    },\n    {\n      \"column\": \"title\",\n      \"properties\": {\n        \"dtype\": \"string\",\n        \"num_unique_values\": 4800,\n        \"samples\": [\n          \"I Spy\",\n          \"Who's Your Caddy?\",\n          \"Sleepover\"\n        ],\n        \"semantic_type\": \"\",\n        \"description\": \"\"\n      }\n    },\n    {\n      \"column\": \"vote_average\",\n      \"properties\": {\n        \"dtype\": \"number\",\n        \"std\": 1.1946121628478925,\n        \"min\": 0.0,\n        \"max\": 10.0,\n        \"num_unique_values\": 71,\n        \"samples\": [\n          5.1,\n          7.2,\n          4.0\n        ],\n        \"semantic_type\": \"\",\n        \"description\": \"\"\n      }\n    },\n    {\n      \"column\": \"vote_count\",\n      \"properties\": {\n        \"dtype\": \"number\",\n        \"std\": 1234,\n        \"min\": 0,\n        \"max\": 13752,\n        \"num_unique_values\": 1609,\n        \"samples\": [\n          7604,\n          3428,\n          225\n        ],\n        \"semantic_type\": \"\",\n        \"description\": \"\"\n      }\n    }\n  ]\n}"
            }
          },
          "metadata": {},
          "execution_count": 5
        }
      ],
      "source": [
        "df = pd.read_csv('tmdb_5000_movies.csv')\n",
        "df"
      ]
    },
    {
      "cell_type": "markdown",
      "id": "1915f1f7",
      "metadata": {
        "id": "1915f1f7"
      },
      "source": [
        "View information about the dataset including datatypes and null values"
      ]
    },
    {
      "cell_type": "code",
      "execution_count": null,
      "id": "c173d066",
      "metadata": {
        "id": "c173d066",
        "colab": {
          "base_uri": "https://localhost:8080/"
        },
        "outputId": "b4d42acb-d80c-4163-ff24-777ff76014fa"
      },
      "outputs": [
        {
          "output_type": "stream",
          "name": "stdout",
          "text": [
            "<class 'pandas.core.frame.DataFrame'>\n",
            "RangeIndex: 4803 entries, 0 to 4802\n",
            "Data columns (total 20 columns):\n",
            " #   Column                Non-Null Count  Dtype  \n",
            "---  ------                --------------  -----  \n",
            " 0   budget                4803 non-null   int64  \n",
            " 1   genres                4803 non-null   object \n",
            " 2   homepage              1712 non-null   object \n",
            " 3   id                    4803 non-null   int64  \n",
            " 4   keywords              4803 non-null   object \n",
            " 5   original_language     4803 non-null   object \n",
            " 6   original_title        4803 non-null   object \n",
            " 7   overview              4800 non-null   object \n",
            " 8   popularity            4803 non-null   float64\n",
            " 9   production_companies  4803 non-null   object \n",
            " 10  production_countries  4803 non-null   object \n",
            " 11  release_date          4802 non-null   object \n",
            " 12  revenue               4803 non-null   int64  \n",
            " 13  runtime               4801 non-null   float64\n",
            " 14  spoken_languages      4803 non-null   object \n",
            " 15  status                4803 non-null   object \n",
            " 16  tagline               3959 non-null   object \n",
            " 17  title                 4803 non-null   object \n",
            " 18  vote_average          4803 non-null   float64\n",
            " 19  vote_count            4803 non-null   int64  \n",
            "dtypes: float64(3), int64(4), object(13)\n",
            "memory usage: 750.6+ KB\n"
          ]
        }
      ],
      "source": [
        "df.info()"
      ]
    },
    {
      "cell_type": "markdown",
      "id": "4e64a24f",
      "metadata": {
        "id": "4e64a24f"
      },
      "source": [
        "**Q.1.1.2** What columns have null values above? How would you be able to\n",
        "\n",
        "1.   List item\n",
        "2.   List item\n",
        "\n",
        "estimate the missing values?"
      ]
    },
    {
      "cell_type": "markdown",
      "id": "2660fe51",
      "metadata": {
        "id": "2660fe51"
      },
      "source": [
        "Homepage (1712), Overview (4800), Release-date (4802), Runtime (4801), Tagline (3959)"
      ]
    },
    {
      "cell_type": "markdown",
      "id": "83863820",
      "metadata": {
        "id": "83863820"
      },
      "source": [
        "### Q1.2\n",
        "For this notebook, we're only interested in a few columns, specifically title, overview and genres. Set df to only contain those columns."
      ]
    },
    {
      "cell_type": "code",
      "execution_count": null,
      "id": "4e3f0439",
      "metadata": {
        "id": "4e3f0439",
        "colab": {
          "base_uri": "https://localhost:8080/"
        },
        "outputId": "e408dfb3-3d93-4d31-db1a-57625faf4b1e"
      },
      "outputs": [
        {
          "output_type": "stream",
          "name": "stdout",
          "text": [
            "<class 'pandas.core.frame.DataFrame'>\n",
            "RangeIndex: 4803 entries, 0 to 4802\n",
            "Data columns (total 3 columns):\n",
            " #   Column    Non-Null Count  Dtype \n",
            "---  ------    --------------  ----- \n",
            " 0   title     4803 non-null   object\n",
            " 1   overview  4800 non-null   object\n",
            " 2   genres    4803 non-null   object\n",
            "dtypes: object(3)\n",
            "memory usage: 112.7+ KB\n"
          ]
        }
      ],
      "source": [
        "df = df[['title', 'overview', 'genres']]\n",
        "df.info() # print out df info to verify"
      ]
    },
    {
      "cell_type": "markdown",
      "id": "b596e86b",
      "metadata": {
        "id": "b596e86b"
      },
      "source": [
        "### Q1.3\n",
        "We see that some movies do not have an overview. Drop them from the table and reset the index (set `drop=True`)."
      ]
    },
    {
      "cell_type": "code",
      "execution_count": null,
      "id": "a06e4f6a",
      "metadata": {
        "id": "a06e4f6a"
      },
      "outputs": [],
      "source": [
        "df = df.dropna(subset=['overview']).reset_index(drop=True)\n"
      ]
    },
    {
      "cell_type": "markdown",
      "id": "759df3a2",
      "metadata": {
        "id": "759df3a2"
      },
      "source": [
        "# Q2 One-hot encodings\n",
        "The following code processes the genres (which you see above are list of dictionaries) and encodes them into one-hot labels.\n",
        "\n",
        "Remember, since we cannot do maths on text strings, we must change these words to numbers. Here, we create one-hot encodings for the genres. Assume we have three genres $[G_1, G_2, G_3]$. If a movie $M_1$ is tagged with genre $G_1$, the encoding is $[1,0,0]$. If another movie $M_2$ is tagged with $G2$, the encoding becomes $[0,1,0]$. Other encodings are possible as well, but one-hot encoding quite common and useful for many other tasks. In this case, if a movie is tagged with more than one genre, we'll just take a random one and encode that into a one-hot label.\n",
        "\n",
        "### Q2.1 Processing genres\n",
        "\n",
        "Finish the following code that processes genres into one-hot encodings."
      ]
    },
    {
      "cell_type": "code",
      "execution_count": null,
      "id": "dba05feb",
      "metadata": {
        "id": "dba05feb",
        "colab": {
          "base_uri": "https://localhost:8080/"
        },
        "outputId": "3c534e30-3265-4dd1-d478-b010ba2ff123"
      },
      "outputs": [
        {
          "output_type": "stream",
          "name": "stderr",
          "text": [
            "100%|██████████| 4800/4800 [00:00<00:00, 22692.10it/s]\n"
          ]
        }
      ],
      "source": [
        "np.random.seed(0)\n",
        "\n",
        "def process_genre_string(gs):\n",
        "    \"\"\" Processes genres into a single item from a list\"\"\"\n",
        "    gs = eval(gs)\n",
        "    gs = [x['name'] for x in gs]\n",
        "    genre = \"Unknown\"\n",
        "    if gs:\n",
        "\n",
        "        genre = np.random.choice(gs) # choose random entry\n",
        "    return genre\n",
        "\n",
        "# TODO: Fill in\n",
        "def encode_labels(label, unique_labels):\n",
        "    \"\"\" Encodes text labels into a one-hot encoded list\n",
        "        with possibly more than one one-hot per list.\n",
        "        :param label: the label you want to one-hot encode\n",
        "        :unique_labels: the vocabulary\n",
        "    \"\"\"\n",
        "    out = np.zeros(len(unique_labels))\n",
        "    index  = unique_labels.index(label)\n",
        "    out[index] = 1\n",
        "    return out\n",
        "\n",
        "# save genres\n",
        "processed_genres = []\n",
        "for index, row in df.iterrows():\n",
        "    processed_genres.append(process_genre_string(row['genres']))\n",
        "\n",
        "# sort and remove duplicates to get vocabulary\n",
        "unique_genres = sorted(list(set(processed_genres)))\n",
        "\n",
        "# add to dataframe as new column\n",
        "df[\"proc_genres\"] = processed_genres\n",
        "\n",
        "# one-hot encode genres\n",
        "enocded_labels = []\n",
        "for index, row in tqdm(df.iterrows(), total=len(df)):\n",
        "    enocded_labels.append(encode_labels(row[\"proc_genres\"], unique_genres))\n",
        "\n",
        "df[\"one_hot_genres\"] = enocded_labels"
      ]
    },
    {
      "cell_type": "markdown",
      "id": "d17501a9",
      "metadata": {
        "id": "d17501a9"
      },
      "source": [
        "Verify that one-hot encodings are indeed as expected"
      ]
    },
    {
      "cell_type": "code",
      "execution_count": null,
      "id": "3b64854b",
      "metadata": {
        "id": "3b64854b",
        "colab": {
          "base_uri": "https://localhost:8080/"
        },
        "outputId": "d07c9c17-8ff9-4093-86f6-7050befce666"
      },
      "outputs": [
        {
          "output_type": "execute_result",
          "data": {
            "text/plain": [
              "array([1., 0., 0., 0., 0., 0., 0., 0., 0., 0., 0., 0., 0., 0., 0., 0., 0.,\n",
              "       0., 0., 0., 0.])"
            ]
          },
          "metadata": {},
          "execution_count": 10
        }
      ],
      "source": [
        "df[\"one_hot_genres\"][0]"
      ]
    },
    {
      "cell_type": "markdown",
      "id": "b0a83ece",
      "metadata": {
        "id": "b0a83ece"
      },
      "source": [
        "### Q2.2 Processing Overviews\n",
        "Next, we process the overviews. First, we remove all punctuation for the sake of simplicity and change each overview to use only lowercase. Then we need to see how long the overviews are in terms of numbers of words. We can do this with a histogram.\n",
        "\n",
        "**Q2.2.1** Finish the following code"
      ]
    },
    {
      "cell_type": "code",
      "execution_count": null,
      "id": "bfd51c53",
      "metadata": {
        "id": "bfd51c53",
        "colab": {
          "base_uri": "https://localhost:8080/",
          "height": 430
        },
        "outputId": "3a676cb9-43fe-4e2d-c317-4a52ae1d84b3"
      },
      "outputs": [
        {
          "output_type": "display_data",
          "data": {
            "text/plain": [
              "<Figure size 640x480 with 1 Axes>"
            ],
            "image/png": "[encoded data removed]"
          },
          "metadata": {}
        }
      ],
      "source": [
        "import re\n",
        "def remove_punctuation(text):\n",
        "    \"\"\" Only retains letters, numbers, underscores and whitespace \"\"\"\n",
        "    pattern = r'[^\\w\\s]'\n",
        "    return re.sub(pattern, '', text)\n",
        "\n",
        "processed_overviews = []\n",
        "\n",
        "# loop over df, remove punctuation, make words lowercase and add it to a new column\n",
        "for index, row in df.iterrows():\n",
        "  text = row['overview']\n",
        "  if pd.notnull(text):\n",
        "    cleanText = remove_punctuation(text).lower()\n",
        "  else:\n",
        "    clean_text = \"\"\n",
        "  processed_overviews.append(cleanText)\n",
        "\n",
        "df[\"proc_overview\"] = processed_overviews\n",
        "\n",
        "# get the word lengths of each overview and store it in a list\n",
        "overview_lens = []\n",
        "for overview in processed_overviews:\n",
        "  word_count = len(overview.split())\n",
        "  overview_lens.append(word_count)\n",
        "\n",
        "\n",
        "# for the sake of simplicity, add these values as a column to the df\n",
        "df[\"overview_len\"] = overview_lens\n",
        "plt.hist(overview_lens, bins=30)\n",
        "plt.show()"
      ]
    },
    {
      "cell_type": "markdown",
      "id": "58138594",
      "metadata": {
        "id": "58138594"
      },
      "source": [
        "**Q2.2.2** What is the shortest overview? What is the longest? In the next step, we need to decide on a standard length of all overviews -- this means dropping overviews less than some value, and truncating longer ones. What length would you choose to minimize the number of movies dropped and maximize the information (words) stored in the overviews?"
      ]
    },
    {
      "cell_type": "code",
      "source": [
        "min_length = df['overview_len'].min()\n",
        "max_length = df['overview_len'].max()\n",
        "\n",
        "print(min_length, max_length)"
      ],
      "metadata": {
        "colab": {
          "base_uri": "https://localhost:8080/"
        },
        "id": "o_f_aCx3IprA",
        "outputId": "4387fd99-01fc-4a76-df03-5c57fc7ae18d"
      },
      "id": "o_f_aCx3IprA",
      "execution_count": null,
      "outputs": [
        {
          "output_type": "stream",
          "name": "stdout",
          "text": [
            "0 175\n"
          ]
        }
      ]
    },
    {
      "cell_type": "markdown",
      "id": "3b87f1af",
      "metadata": {
        "id": "3b87f1af"
      },
      "source": [
        "Shortest: 0, Longest: 175. I would choose approximately 60. Most fall between 20 and 80. It would take a value of approximately 20, to not drop many."
      ]
    },
    {
      "cell_type": "markdown",
      "id": "54e6cb90",
      "metadata": {
        "id": "54e6cb90"
      },
      "source": [
        "### Q2.2.3\n",
        "Let's choose overviews of length 15 words. What this means is we need to discard movies that have overviews less than 15 (there are other ways of dealing with it, but this should be fine for now) and truncate the higher ones to the first 15 words."
      ]
    },
    {
      "cell_type": "code",
      "execution_count": null,
      "id": "70854211",
      "metadata": {
        "id": "70854211",
        "colab": {
          "base_uri": "https://localhost:8080/",
          "height": 1000
        },
        "outputId": "22f8d5dd-b401-4ab9-b66c-ea2c46576c22"
      },
      "outputs": [
        {
          "output_type": "execute_result",
          "data": {
            "text/plain": [
              "                                         title  \\\n",
              "0                                       Avatar   \n",
              "1     Pirates of the Caribbean: At World's End   \n",
              "2                                      Spectre   \n",
              "3                        The Dark Knight Rises   \n",
              "4                                  John Carter   \n",
              "...                                        ...   \n",
              "4702                                    Cavite   \n",
              "4703                               El Mariachi   \n",
              "4704                 Signed, Sealed, Delivered   \n",
              "4705                          Shanghai Calling   \n",
              "4706                         My Date with Drew   \n",
              "\n",
              "                                               overview  \\\n",
              "0     In the 22nd century, a paraplegic Marine is di...   \n",
              "1     Captain Barbossa, long believed to be dead, ha...   \n",
              "2     A cryptic message from Bond’s past sends him o...   \n",
              "3     Following the death of District Attorney Harve...   \n",
              "4     John Carter is a war-weary, former military ca...   \n",
              "...                                                 ...   \n",
              "4702  Adam, a security guard, travels from Californi...   \n",
              "4703  El Mariachi just wants to play his guitar and ...   \n",
              "4704  \"Signed, Sealed, Delivered\" introduces a dedic...   \n",
              "4705  When ambitious New York attorney Sam is sent t...   \n",
              "4706  Ever since the second grade when he first saw ...   \n",
              "\n",
              "                                                 genres  proc_genres  \\\n",
              "0     [{\"id\": 28, \"name\": \"Action\"}, {\"id\": 12, \"nam...       Action   \n",
              "1     [{\"id\": 12, \"name\": \"Adventure\"}, {\"id\": 14, \"...      Fantasy   \n",
              "2     [{\"id\": 28, \"name\": \"Action\"}, {\"id\": 12, \"nam...       Action   \n",
              "3     [{\"id\": 28, \"name\": \"Action\"}, {\"id\": 80, \"nam...     Thriller   \n",
              "4     [{\"id\": 28, \"name\": \"Action\"}, {\"id\": 12, \"nam...    Adventure   \n",
              "...                                                 ...          ...   \n",
              "4702  [{\"id\": 10769, \"name\": \"Foreign\"}, {\"id\": 53, ...     Thriller   \n",
              "4703  [{\"id\": 28, \"name\": \"Action\"}, {\"id\": 80, \"nam...        Crime   \n",
              "4704  [{\"id\": 35, \"name\": \"Comedy\"}, {\"id\": 18, \"nam...     TV Movie   \n",
              "4705                                                 []      Unknown   \n",
              "4706                [{\"id\": 99, \"name\": \"Documentary\"}]  Documentary   \n",
              "\n",
              "                                         one_hot_genres  \\\n",
              "0     [1.0, 0.0, 0.0, 0.0, 0.0, 0.0, 0.0, 0.0, 0.0, ...   \n",
              "1     [0.0, 0.0, 0.0, 0.0, 0.0, 0.0, 0.0, 0.0, 1.0, ...   \n",
              "2     [1.0, 0.0, 0.0, 0.0, 0.0, 0.0, 0.0, 0.0, 0.0, ...   \n",
              "3     [0.0, 0.0, 0.0, 0.0, 0.0, 0.0, 0.0, 0.0, 0.0, ...   \n",
              "4     [0.0, 1.0, 0.0, 0.0, 0.0, 0.0, 0.0, 0.0, 0.0, ...   \n",
              "...                                                 ...   \n",
              "4702  [0.0, 0.0, 0.0, 0.0, 0.0, 0.0, 0.0, 0.0, 0.0, ...   \n",
              "4703  [0.0, 0.0, 0.0, 0.0, 1.0, 0.0, 0.0, 0.0, 0.0, ...   \n",
              "4704  [0.0, 0.0, 0.0, 0.0, 0.0, 0.0, 0.0, 0.0, 0.0, ...   \n",
              "4705  [0.0, 0.0, 0.0, 0.0, 0.0, 0.0, 0.0, 0.0, 0.0, ...   \n",
              "4706  [0.0, 0.0, 0.0, 0.0, 0.0, 1.0, 0.0, 0.0, 0.0, ...   \n",
              "\n",
              "                                          proc_overview  overview_len  \n",
              "0     [in, the, 22nd, century, a, paraplegic, marine...            28  \n",
              "1     [captain, barbossa, long, believed, to, be, de...            34  \n",
              "2     [a, cryptic, message, from, bonds, past, sends...            41  \n",
              "3     [following, the, death, of, district, attorney...            65  \n",
              "4     [john, carter, is, a, warweary, former, milita...            55  \n",
              "...                                                 ...           ...  \n",
              "4702  [adam, a, security, guard, travels, from, cali...           115  \n",
              "4703  [el, mariachi, just, wants, to, play, his, gui...            62  \n",
              "4704  [signed, sealed, delivered, introduces, a, ded...            73  \n",
              "4705  [when, ambitious, new, york, attorney, sam, is...            65  \n",
              "4706  [ever, since, the, second, grade, when, he, fi...            62  \n",
              "\n",
              "[4707 rows x 7 columns]"
            ],
            "text/html": [
              "\n",
              "  <div id=\"df-eff00dbc-0860-4cf5-90fa-0c0fbef947cc\" class=\"colab-df-container\">\n",
              "    <div>\n",
              "<style scoped>\n",
              "    .dataframe tbody tr th:only-of-type {\n",
              "        vertical-align: middle;\n",
              "    }\n",
              "\n",
              "    .dataframe tbody tr th {\n",
              "        vertical-align: top;\n",
              "    }\n",
              "\n",
              "    .dataframe thead th {\n",
              "        text-align: right;\n",
              "    }\n",
              "</style>\n",
              "<table border=\"1\" class=\"dataframe\">\n",
              "  <thead>\n",
              "    <tr style=\"text-align: right;\">\n",
              "      <th></th>\n",
              "      <th>title</th>\n",
              "      <th>overview</th>\n",
              "      <th>genres</th>\n",
              "      <th>proc_genres</th>\n",
              "      <th>one_hot_genres</th>\n",
              "      <th>proc_overview</th>\n",
              "      <th>overview_len</th>\n",
              "    </tr>\n",
              "  </thead>\n",
              "  <tbody>\n",
              "    <tr>\n",
              "      <th>0</th>\n",
              "      <td>Avatar</td>\n",
              "      <td>In the 22nd century, a paraplegic Marine is di...</td>\n",
              "      <td>[{\"id\": 28, \"name\": \"Action\"}, {\"id\": 12, \"nam...</td>\n",
              "      <td>Action</td>\n",
              "      <td>[1.0, 0.0, 0.0, 0.0, 0.0, 0.0, 0.0, 0.0, 0.0, ...</td>\n",
              "      <td>[in, the, 22nd, century, a, paraplegic, marine...</td>\n",
              "      <td>28</td>\n",
              "    </tr>\n",
              "    <tr>\n",
              "      <th>1</th>\n",
              "      <td>Pirates of the Caribbean: At World's End</td>\n",
              "      <td>Captain Barbossa, long believed to be dead, ha...</td>\n",
              "      <td>[{\"id\": 12, \"name\": \"Adventure\"}, {\"id\": 14, \"...</td>\n",
              "      <td>Fantasy</td>\n",
              "      <td>[0.0, 0.0, 0.0, 0.0, 0.0, 0.0, 0.0, 0.0, 1.0, ...</td>\n",
              "      <td>[captain, barbossa, long, believed, to, be, de...</td>\n",
              "      <td>34</td>\n",
              "    </tr>\n",
              "    <tr>\n",
              "      <th>2</th>\n",
              "      <td>Spectre</td>\n",
              "      <td>A cryptic message from Bond’s past sends him o...</td>\n",
              "      <td>[{\"id\": 28, \"name\": \"Action\"}, {\"id\": 12, \"nam...</td>\n",
              "      <td>Action</td>\n",
              "      <td>[1.0, 0.0, 0.0, 0.0, 0.0, 0.0, 0.0, 0.0, 0.0, ...</td>\n",
              "      <td>[a, cryptic, message, from, bonds, past, sends...</td>\n",
              "      <td>41</td>\n",
              "    </tr>\n",
              "    <tr>\n",
              "      <th>3</th>\n",
              "      <td>The Dark Knight Rises</td>\n",
              "      <td>Following the death of District Attorney Harve...</td>\n",
              "      <td>[{\"id\": 28, \"name\": \"Action\"}, {\"id\": 80, \"nam...</td>\n",
              "      <td>Thriller</td>\n",
              "      <td>[0.0, 0.0, 0.0, 0.0, 0.0, 0.0, 0.0, 0.0, 0.0, ...</td>\n",
              "      <td>[following, the, death, of, district, attorney...</td>\n",
              "      <td>65</td>\n",
              "    </tr>\n",
              "    <tr>\n",
              "      <th>4</th>\n",
              "      <td>John Carter</td>\n",
              "      <td>John Carter is a war-weary, former military ca...</td>\n",
              "      <td>[{\"id\": 28, \"name\": \"Action\"}, {\"id\": 12, \"nam...</td>\n",
              "      <td>Adventure</td>\n",
              "      <td>[0.0, 1.0, 0.0, 0.0, 0.0, 0.0, 0.0, 0.0, 0.0, ...</td>\n",
              "      <td>[john, carter, is, a, warweary, former, milita...</td>\n",
              "      <td>55</td>\n",
              "    </tr>\n",
              "    <tr>\n",
              "      <th>...</th>\n",
              "      <td>...</td>\n",
              "      <td>...</td>\n",
              "      <td>...</td>\n",
              "      <td>...</td>\n",
              "      <td>...</td>\n",
              "      <td>...</td>\n",
              "      <td>...</td>\n",
              "    </tr>\n",
              "    <tr>\n",
              "      <th>4702</th>\n",
              "      <td>Cavite</td>\n",
              "      <td>Adam, a security guard, travels from Californi...</td>\n",
              "      <td>[{\"id\": 10769, \"name\": \"Foreign\"}, {\"id\": 53, ...</td>\n",
              "      <td>Thriller</td>\n",
              "      <td>[0.0, 0.0, 0.0, 0.0, 0.0, 0.0, 0.0, 0.0, 0.0, ...</td>\n",
              "      <td>[adam, a, security, guard, travels, from, cali...</td>\n",
              "      <td>115</td>\n",
              "    </tr>\n",
              "    <tr>\n",
              "      <th>4703</th>\n",
              "      <td>El Mariachi</td>\n",
              "      <td>El Mariachi just wants to play his guitar and ...</td>\n",
              "      <td>[{\"id\": 28, \"name\": \"Action\"}, {\"id\": 80, \"nam...</td>\n",
              "      <td>Crime</td>\n",
              "      <td>[0.0, 0.0, 0.0, 0.0, 1.0, 0.0, 0.0, 0.0, 0.0, ...</td>\n",
              "      <td>[el, mariachi, just, wants, to, play, his, gui...</td>\n",
              "      <td>62</td>\n",
              "    </tr>\n",
              "    <tr>\n",
              "      <th>4704</th>\n",
              "      <td>Signed, Sealed, Delivered</td>\n",
              "      <td>\"Signed, Sealed, Delivered\" introduces a dedic...</td>\n",
              "      <td>[{\"id\": 35, \"name\": \"Comedy\"}, {\"id\": 18, \"nam...</td>\n",
              "      <td>TV Movie</td>\n",
              "      <td>[0.0, 0.0, 0.0, 0.0, 0.0, 0.0, 0.0, 0.0, 0.0, ...</td>\n",
              "      <td>[signed, sealed, delivered, introduces, a, ded...</td>\n",
              "      <td>73</td>\n",
              "    </tr>\n",
              "    <tr>\n",
              "      <th>4705</th>\n",
              "      <td>Shanghai Calling</td>\n",
              "      <td>When ambitious New York attorney Sam is sent t...</td>\n",
              "      <td>[]</td>\n",
              "      <td>Unknown</td>\n",
              "      <td>[0.0, 0.0, 0.0, 0.0, 0.0, 0.0, 0.0, 0.0, 0.0, ...</td>\n",
              "      <td>[when, ambitious, new, york, attorney, sam, is...</td>\n",
              "      <td>65</td>\n",
              "    </tr>\n",
              "    <tr>\n",
              "      <th>4706</th>\n",
              "      <td>My Date with Drew</td>\n",
              "      <td>Ever since the second grade when he first saw ...</td>\n",
              "      <td>[{\"id\": 99, \"name\": \"Documentary\"}]</td>\n",
              "      <td>Documentary</td>\n",
              "      <td>[0.0, 0.0, 0.0, 0.0, 0.0, 1.0, 0.0, 0.0, 0.0, ...</td>\n",
              "      <td>[ever, since, the, second, grade, when, he, fi...</td>\n",
              "      <td>62</td>\n",
              "    </tr>\n",
              "  </tbody>\n",
              "</table>\n",
              "<p>4707 rows × 7 columns</p>\n",
              "</div>\n",
              "    <div class=\"colab-df-buttons\">\n",
              "\n",
              "  <div class=\"colab-df-container\">\n",
              "    <button class=\"colab-df-convert\" onclick=\"convertToInteractive('df-eff00dbc-0860-4cf5-90fa-0c0fbef947cc')\"\n",
              "            title=\"Convert this dataframe to an interactive table.\"\n",
              "            style=\"display:none;\">\n",
              "\n",
              "  <svg xmlns=\"http://www.w3.org/2000/svg\" height=\"24px\" viewBox=\"0 -960 960 960\">\n",
              "    <path d=\"M120-120v-720h720v720H120Zm60-500h600v-160H180v160Zm220 220h160v-160H400v160Zm0 220h160v-160H400v160ZM180-400h160v-160H180v160Zm440 0h160v-160H620v160ZM180-180h160v-160H180v160Zm440 0h160v-160H620v160Z\"/>\n",
              "  </svg>\n",
              "    </button>\n",
              "\n",
              "  <style>\n",
              "    .colab-df-container {\n",
              "      display:flex;\n",
              "      gap: 12px;\n",
              "    }\n",
              "\n",
              "    .colab-df-convert {\n",
              "      background-color: #E8F0FE;\n",
              "      border: none;\n",
              "      border-radius: 50%;\n",
              "      cursor: pointer;\n",
              "      display: none;\n",
              "      fill: #1967D2;\n",
              "      height: 32px;\n",
              "      padding: 0 0 0 0;\n",
              "      width: 32px;\n",
              "    }\n",
              "\n",
              "    .colab-df-convert:hover {\n",
              "      background-color: #E2EBFA;\n",
              "      box-shadow: 0px 1px 2px rgba(60, 64, 67, 0.3), 0px 1px 3px 1px rgba(60, 64, 67, 0.15);\n",
              "      fill: #174EA6;\n",
              "    }\n",
              "\n",
              "    .colab-df-buttons div {\n",
              "      margin-bottom: 4px;\n",
              "    }\n",
              "\n",
              "    [theme=dark] .colab-df-convert {\n",
              "      background-color: #3B4455;\n",
              "      fill: #D2E3FC;\n",
              "    }\n",
              "\n",
              "    [theme=dark] .colab-df-convert:hover {\n",
              "      background-color: #434B5C;\n",
              "      box-shadow: 0px 1px 3px 1px rgba(0, 0, 0, 0.15);\n",
              "      filter: drop-shadow(0px 1px 2px rgba(0, 0, 0, 0.3));\n",
              "      fill: #FFFFFF;\n",
              "    }\n",
              "  </style>\n",
              "\n",
              "    <script>\n",
              "      const buttonEl =\n",
              "        document.querySelector('#df-eff00dbc-0860-4cf5-90fa-0c0fbef947cc button.colab-df-convert');\n",
              "      buttonEl.style.display =\n",
              "        google.colab.kernel.accessAllowed ? 'block' : 'none';\n",
              "\n",
              "      async function convertToInteractive(key) {\n",
              "        const element = document.querySelector('#df-eff00dbc-0860-4cf5-90fa-0c0fbef947cc');\n",
              "        const dataTable =\n",
              "          await google.colab.kernel.invokeFunction('convertToInteractive',\n",
              "                                                    [key], {});\n",
              "        if (!dataTable) return;\n",
              "\n",
              "        const docLinkHtml = 'Like what you see? Visit the ' +\n",
              "          '<a target=\"_blank\" href=https://colab.research.google.com/notebooks/data_table.ipynb>data table notebook</a>'\n",
              "          + ' to learn more about interactive tables.';\n",
              "        element.innerHTML = '';\n",
              "        dataTable['output_type'] = 'display_data';\n",
              "        await google.colab.output.renderOutput(dataTable, element);\n",
              "        const docLink = document.createElement('div');\n",
              "        docLink.innerHTML = docLinkHtml;\n",
              "        element.appendChild(docLink);\n",
              "      }\n",
              "    </script>\n",
              "  </div>\n",
              "\n",
              "\n",
              "<div id=\"df-e9b2b659-6876-431b-8a8d-82750ef82d0c\">\n",
              "  <button class=\"colab-df-quickchart\" onclick=\"quickchart('df-e9b2b659-6876-431b-8a8d-82750ef82d0c')\"\n",
              "            title=\"Suggest charts\"\n",
              "            style=\"display:none;\">\n",
              "\n",
              "<svg xmlns=\"http://www.w3.org/2000/svg\" height=\"24px\"viewBox=\"0 0 24 24\"\n",
              "     width=\"24px\">\n",
              "    <g>\n",
              "        <path d=\"M19 3H5c-1.1 0-2 .9-2 2v14c0 1.1.9 2 2 2h14c1.1 0 2-.9 2-2V5c0-1.1-.9-2-2-2zM9 17H7v-7h2v7zm4 0h-2V7h2v10zm4 0h-2v-4h2v4z\"/>\n",
              "    </g>\n",
              "</svg>\n",
              "  </button>\n",
              "\n",
              "<style>\n",
              "  .colab-df-quickchart {\n",
              "      --bg-color: #E8F0FE;\n",
              "      --fill-color: #1967D2;\n",
              "      --hover-bg-color: #E2EBFA;\n",
              "      --hover-fill-color: #174EA6;\n",
              "      --disabled-fill-color: #AAA;\n",
              "      --disabled-bg-color: #DDD;\n",
              "  }\n",
              "\n",
              "  [theme=dark] .colab-df-quickchart {\n",
              "      --bg-color: #3B4455;\n",
              "      --fill-color: #D2E3FC;\n",
              "      --hover-bg-color: #434B5C;\n",
              "      --hover-fill-color: #FFFFFF;\n",
              "      --disabled-bg-color: #3B4455;\n",
              "      --disabled-fill-color: #666;\n",
              "  }\n",
              "\n",
              "  .colab-df-quickchart {\n",
              "    background-color: var(--bg-color);\n",
              "    border: none;\n",
              "    border-radius: 50%;\n",
              "    cursor: pointer;\n",
              "    display: none;\n",
              "    fill: var(--fill-color);\n",
              "    height: 32px;\n",
              "    padding: 0;\n",
              "    width: 32px;\n",
              "  }\n",
              "\n",
              "  .colab-df-quickchart:hover {\n",
              "    background-color: var(--hover-bg-color);\n",
              "    box-shadow: 0 1px 2px rgba(60, 64, 67, 0.3), 0 1px 3px 1px rgba(60, 64, 67, 0.15);\n",
              "    fill: var(--button-hover-fill-color);\n",
              "  }\n",
              "\n",
              "  .colab-df-quickchart-complete:disabled,\n",
              "  .colab-df-quickchart-complete:disabled:hover {\n",
              "    background-color: var(--disabled-bg-color);\n",
              "    fill: var(--disabled-fill-color);\n",
              "    box-shadow: none;\n",
              "  }\n",
              "\n",
              "  .colab-df-spinner {\n",
              "    border: 2px solid var(--fill-color);\n",
              "    border-color: transparent;\n",
              "    border-bottom-color: var(--fill-color);\n",
              "    animation:\n",
              "      spin 1s steps(1) infinite;\n",
              "  }\n",
              "\n",
              "  @keyframes spin {\n",
              "    0% {\n",
              "      border-color: transparent;\n",
              "      border-bottom-color: var(--fill-color);\n",
              "      border-left-color: var(--fill-color);\n",
              "    }\n",
              "    20% {\n",
              "      border-color: transparent;\n",
              "      border-left-color: var(--fill-color);\n",
              "      border-top-color: var(--fill-color);\n",
              "    }\n",
              "    30% {\n",
              "      border-color: transparent;\n",
              "      border-left-color: var(--fill-color);\n",
              "      border-top-color: var(--fill-color);\n",
              "      border-right-color: var(--fill-color);\n",
              "    }\n",
              "    40% {\n",
              "      border-color: transparent;\n",
              "      border-right-color: var(--fill-color);\n",
              "      border-top-color: var(--fill-color);\n",
              "    }\n",
              "    60% {\n",
              "      border-color: transparent;\n",
              "      border-right-color: var(--fill-color);\n",
              "    }\n",
              "    80% {\n",
              "      border-color: transparent;\n",
              "      border-right-color: var(--fill-color);\n",
              "      border-bottom-color: var(--fill-color);\n",
              "    }\n",
              "    90% {\n",
              "      border-color: transparent;\n",
              "      border-bottom-color: var(--fill-color);\n",
              "    }\n",
              "  }\n",
              "</style>\n",
              "\n",
              "  <script>\n",
              "    async function quickchart(key) {\n",
              "      const quickchartButtonEl =\n",
              "        document.querySelector('#' + key + ' button');\n",
              "      quickchartButtonEl.disabled = true;  // To prevent multiple clicks.\n",
              "      quickchartButtonEl.classList.add('colab-df-spinner');\n",
              "      try {\n",
              "        const charts = await google.colab.kernel.invokeFunction(\n",
              "            'suggestCharts', [key], {});\n",
              "      } catch (error) {\n",
              "        console.error('Error during call to suggestCharts:', error);\n",
              "      }\n",
              "      quickchartButtonEl.classList.remove('colab-df-spinner');\n",
              "      quickchartButtonEl.classList.add('colab-df-quickchart-complete');\n",
              "    }\n",
              "    (() => {\n",
              "      let quickchartButtonEl =\n",
              "        document.querySelector('#df-e9b2b659-6876-431b-8a8d-82750ef82d0c button');\n",
              "      quickchartButtonEl.style.display =\n",
              "        google.colab.kernel.accessAllowed ? 'block' : 'none';\n",
              "    })();\n",
              "  </script>\n",
              "</div>\n",
              "\n",
              "  <div id=\"id_93882714-6a76-42f1-b833-8c7ebad47e26\">\n",
              "    <style>\n",
              "      .colab-df-generate {\n",
              "        background-color: #E8F0FE;\n",
              "        border: none;\n",
              "        border-radius: 50%;\n",
              "        cursor: pointer;\n",
              "        display: none;\n",
              "        fill: #1967D2;\n",
              "        height: 32px;\n",
              "        padding: 0 0 0 0;\n",
              "        width: 32px;\n",
              "      }\n",
              "\n",
              "      .colab-df-generate:hover {\n",
              "        background-color: #E2EBFA;\n",
              "        box-shadow: 0px 1px 2px rgba(60, 64, 67, 0.3), 0px 1px 3px 1px rgba(60, 64, 67, 0.15);\n",
              "        fill: #174EA6;\n",
              "      }\n",
              "\n",
              "      [theme=dark] .colab-df-generate {\n",
              "        background-color: #3B4455;\n",
              "        fill: #D2E3FC;\n",
              "      }\n",
              "\n",
              "      [theme=dark] .colab-df-generate:hover {\n",
              "        background-color: #434B5C;\n",
              "        box-shadow: 0px 1px 3px 1px rgba(0, 0, 0, 0.15);\n",
              "        filter: drop-shadow(0px 1px 2px rgba(0, 0, 0, 0.3));\n",
              "        fill: #FFFFFF;\n",
              "      }\n",
              "    </style>\n",
              "    <button class=\"colab-df-generate\" onclick=\"generateWithVariable('df')\"\n",
              "            title=\"Generate code using this dataframe.\"\n",
              "            style=\"display:none;\">\n",
              "\n",
              "  <svg xmlns=\"http://www.w3.org/2000/svg\" height=\"24px\"viewBox=\"0 0 24 24\"\n",
              "       width=\"24px\">\n",
              "    <path d=\"M7,19H8.4L18.45,9,17,7.55,7,17.6ZM5,21V16.75L18.45,3.32a2,2,0,0,1,2.83,0l1.4,1.43a1.91,1.91,0,0,1,.58,1.4,1.91,1.91,0,0,1-.58,1.4L9.25,21ZM18.45,9,17,7.55Zm-12,3A5.31,5.31,0,0,0,4.9,8.1,5.31,5.31,0,0,0,1,6.5,5.31,5.31,0,0,0,4.9,4.9,5.31,5.31,0,0,0,6.5,1,5.31,5.31,0,0,0,8.1,4.9,5.31,5.31,0,0,0,12,6.5,5.46,5.46,0,0,0,6.5,12Z\"/>\n",
              "  </svg>\n",
              "    </button>\n",
              "    <script>\n",
              "      (() => {\n",
              "      const buttonEl =\n",
              "        document.querySelector('#id_93882714-6a76-42f1-b833-8c7ebad47e26 button.colab-df-generate');\n",
              "      buttonEl.style.display =\n",
              "        google.colab.kernel.accessAllowed ? 'block' : 'none';\n",
              "\n",
              "      buttonEl.onclick = () => {\n",
              "        google.colab.notebook.generateWithVariable('df');\n",
              "      }\n",
              "      })();\n",
              "    </script>\n",
              "  </div>\n",
              "\n",
              "    </div>\n",
              "  </div>\n"
            ],
            "application/vnd.google.colaboratory.intrinsic+json": {
              "type": "dataframe",
              "variable_name": "df",
              "summary": "{\n  \"name\": \"df\",\n  \"rows\": 4707,\n  \"fields\": [\n    {\n      \"column\": \"title\",\n      \"properties\": {\n        \"dtype\": \"string\",\n        \"num_unique_values\": 4704,\n        \"samples\": [\n          \"A Dog's Breakfast\",\n          \"The Chorus\",\n          \"Water for Elephants\"\n        ],\n        \"semantic_type\": \"\",\n        \"description\": \"\"\n      }\n    },\n    {\n      \"column\": \"overview\",\n      \"properties\": {\n        \"dtype\": \"string\",\n        \"num_unique_values\": 4707,\n        \"samples\": [\n          \"When Jay and Annie first got together, their romantic connection was intense \\u2013 but ten years and two kids later, the flame of their love needs a spark.  To kick things up a notch, they decide \\u2013 why not? \\u2013 to make a video of themselves trying out every position in The Joy of Sex in one marathon three-hour session.  It seems like a great idea \\u2013 until they discover that their most private video is no longer private.  With their reputations on the line, they know they\\u2019re just one click away from being laid bare to the world... but as their race to reclaim their video leads to a night they'll never forget, they'll find that their video will expose even more than they bargained for.\",\n          \"Forensic psychologist Alex Cross travels to North Carolina and teams with escaped kidnap victim Kate McTiernan to hunt down \\\"Casanova,\\\" a serial killer who abducts strong-willed women and forces them to submit to his demands. The trail leads to Los Angeles, where the duo discovers that the psychopath may not be working alone.\",\n          \"Tilen (18), an attractive high school student, swears to be faithful forever in the hope that his girlfriend will let him sleep with her. Suddenly, a sequence of tragic events turns his world upside down. He starts to believe he is under a spell which could put his life in jeopardy, which prevents him from having a relationship with Sara (18), his one true love. He finally succeeds to get his life back on the right track with the help of his best friend Zeljko, a mysterious fortune-teller, and the power of love.\"\n        ],\n        \"semantic_type\": \"\",\n        \"description\": \"\"\n      }\n    },\n    {\n      \"column\": \"genres\",\n      \"properties\": {\n        \"dtype\": \"category\",\n        \"num_unique_values\": 1165,\n        \"samples\": [\n          \"[{\\\"id\\\": 35, \\\"name\\\": \\\"Comedy\\\"}, {\\\"id\\\": 9648, \\\"name\\\": \\\"Mystery\\\"}, {\\\"id\\\": 53, \\\"name\\\": \\\"Thriller\\\"}]\",\n          \"[{\\\"id\\\": 14, \\\"name\\\": \\\"Fantasy\\\"}, {\\\"id\\\": 28, \\\"name\\\": \\\"Action\\\"}, {\\\"id\\\": 12, \\\"name\\\": \\\"Adventure\\\"}, {\\\"id\\\": 16, \\\"name\\\": \\\"Animation\\\"}, {\\\"id\\\": 35, \\\"name\\\": \\\"Comedy\\\"}, {\\\"id\\\": 10751, \\\"name\\\": \\\"Family\\\"}]\",\n          \"[{\\\"id\\\": 14, \\\"name\\\": \\\"Fantasy\\\"}, {\\\"id\\\": 28, \\\"name\\\": \\\"Action\\\"}, {\\\"id\\\": 878, \\\"name\\\": \\\"Science Fiction\\\"}, {\\\"id\\\": 53, \\\"name\\\": \\\"Thriller\\\"}, {\\\"id\\\": 27, \\\"name\\\": \\\"Horror\\\"}]\"\n        ],\n        \"semantic_type\": \"\",\n        \"description\": \"\"\n      }\n    },\n    {\n      \"column\": \"proc_genres\",\n      \"properties\": {\n        \"dtype\": \"category\",\n        \"num_unique_values\": 21,\n        \"samples\": [\n          \"Action\",\n          \"Documentary\",\n          \"History\"\n        ],\n        \"semantic_type\": \"\",\n        \"description\": \"\"\n      }\n    },\n    {\n      \"column\": \"one_hot_genres\",\n      \"properties\": {\n        \"dtype\": \"object\",\n        \"semantic_type\": \"\",\n        \"description\": \"\"\n      }\n    },\n    {\n      \"column\": \"proc_overview\",\n      \"properties\": {\n        \"dtype\": \"object\",\n        \"semantic_type\": \"\",\n        \"description\": \"\"\n      }\n    },\n    {\n      \"column\": \"overview_len\",\n      \"properties\": {\n        \"dtype\": \"number\",\n        \"std\": 27,\n        \"min\": 15,\n        \"max\": 175,\n        \"num_unique_values\": 154,\n        \"samples\": [\n          109,\n          112,\n          131\n        ],\n        \"semantic_type\": \"\",\n        \"description\": \"\"\n      }\n    }\n  ]\n}"
            }
          },
          "metadata": {},
          "execution_count": 13
        }
      ],
      "source": [
        "token_len = 15 # number of words\n",
        "# only select rows where overview len is more than or equal to token_len\n",
        "df = df[df['overview_len'] >= 15].reset_index(drop=True)\n",
        "\n",
        "# split each proc_overview into a list of words, select the first token_len words,\n",
        "# and add the list of words back into df[\"proc_overview\"]\n",
        "def truncate_overview(text):\n",
        "  return text.split()[:15]\n",
        "\n",
        "\n",
        "df[\"proc_overview\"] = df[\"proc_overview\"].apply(truncate_overview)\n",
        "\n",
        "# print to verify\n",
        "df"
      ]
    },
    {
      "cell_type": "markdown",
      "id": "26e092dd",
      "metadata": {
        "id": "26e092dd"
      },
      "source": [
        "### Q2.2.3 Finding the vocabulary length\n",
        "\n",
        "In order to one-hot encode words, we need to find how many words there are in total, just like in the case of genres. Get all the words, remove duplicates, and sort. Find and print the length of your vocabulary."
      ]
    },
    {
      "cell_type": "code",
      "execution_count": null,
      "id": "a71a750b",
      "metadata": {
        "id": "a71a750b",
        "colab": {
          "base_uri": "https://localhost:8080/"
        },
        "outputId": "18a4fe56-32db-4537-d3cd-d7ccd8c43367"
      },
      "outputs": [
        {
          "output_type": "stream",
          "name": "stdout",
          "text": [
            "12493\n"
          ]
        }
      ],
      "source": [
        "# hint: store all words for all movies in a set, change it to a list and sort\n",
        "vocab = set()\n",
        "\n",
        "for words in df[\"proc_overview\"]:\n",
        "  vocab.update(words)\n",
        "\n",
        "vocab = sorted(list(vocab))\n",
        "\n",
        "\n",
        "vocab_len = len(vocab)\n",
        "print(vocab_len)"
      ]
    },
    {
      "cell_type": "markdown",
      "id": "f276b825",
      "metadata": {
        "id": "f276b825"
      },
      "source": [
        "### Q2.2.4 Encoding the labels\n",
        "\n",
        "In the case of genres, we one-hot encoded the outputs by taking a single random genre. However, an alternative method is to add up the one-hot encodings to form some kind of histogram. For example, if we have an overview \"a brown dog\", and our vocab is \\[a brown, big, cabbage, dog, goat, cow, turkey\\], the one-hot vector would be \\[1,1,0,0,1,0,0,0\\]. If our overview is \"a big brown dog\", the one-hot vector would be \\[1,1,1,0,1,0,0,0\\]. If our overview is \"a big big brown dog\", the one-hot vector would be \\[1,1,2,0,1,0,0,0\\]. You can use the `encode_labels` function that you defined earlier."
      ]
    },
    {
      "cell_type": "code",
      "execution_count": null,
      "id": "d212192f",
      "metadata": {
        "id": "d212192f",
        "colab": {
          "base_uri": "https://localhost:8080/",
          "height": 476
        },
        "outputId": "e095b8a8-c6c5-4cf0-f08c-d071c39e6fa2"
      },
      "outputs": [
        {
          "output_type": "stream",
          "name": "stderr",
          "text": [
            "100%|██████████| 4707/4707 [00:24<00:00, 195.93it/s]\n"
          ]
        },
        {
          "output_type": "execute_result",
          "data": {
            "text/plain": [
              "0       [0.0, 0.0, 0.0, 0.0, 0.0, 0.0, 0.0, 0.0, 0.0, ...\n",
              "1       [0.0, 0.0, 0.0, 0.0, 0.0, 0.0, 0.0, 0.0, 0.0, ...\n",
              "2       [0.0, 0.0, 0.0, 0.0, 0.0, 0.0, 0.0, 0.0, 0.0, ...\n",
              "3       [0.0, 0.0, 0.0, 0.0, 0.0, 0.0, 0.0, 0.0, 0.0, ...\n",
              "4       [0.0, 0.0, 0.0, 0.0, 0.0, 0.0, 0.0, 0.0, 0.0, ...\n",
              "                              ...                        \n",
              "4702    [0.0, 0.0, 0.0, 0.0, 0.0, 0.0, 0.0, 0.0, 0.0, ...\n",
              "4703    [0.0, 0.0, 0.0, 0.0, 0.0, 0.0, 0.0, 0.0, 0.0, ...\n",
              "4704    [0.0, 0.0, 0.0, 0.0, 0.0, 0.0, 0.0, 0.0, 0.0, ...\n",
              "4705    [0.0, 0.0, 0.0, 0.0, 0.0, 0.0, 0.0, 0.0, 0.0, ...\n",
              "4706    [0.0, 0.0, 0.0, 0.0, 0.0, 0.0, 0.0, 0.0, 0.0, ...\n",
              "Name: one_hot_overview, Length: 4707, dtype: object"
            ],
            "text/html": [
              "<div>\n",
              "<style scoped>\n",
              "    .dataframe tbody tr th:only-of-type {\n",
              "        vertical-align: middle;\n",
              "    }\n",
              "\n",
              "    .dataframe tbody tr th {\n",
              "        vertical-align: top;\n",
              "    }\n",
              "\n",
              "    .dataframe thead th {\n",
              "        text-align: right;\n",
              "    }\n",
              "</style>\n",
              "<table border=\"1\" class=\"dataframe\">\n",
              "  <thead>\n",
              "    <tr style=\"text-align: right;\">\n",
              "      <th></th>\n",
              "      <th>one_hot_overview</th>\n",
              "    </tr>\n",
              "  </thead>\n",
              "  <tbody>\n",
              "    <tr>\n",
              "      <th>0</th>\n",
              "      <td>[0.0, 0.0, 0.0, 0.0, 0.0, 0.0, 0.0, 0.0, 0.0, ...</td>\n",
              "    </tr>\n",
              "    <tr>\n",
              "      <th>1</th>\n",
              "      <td>[0.0, 0.0, 0.0, 0.0, 0.0, 0.0, 0.0, 0.0, 0.0, ...</td>\n",
              "    </tr>\n",
              "    <tr>\n",
              "      <th>2</th>\n",
              "      <td>[0.0, 0.0, 0.0, 0.0, 0.0, 0.0, 0.0, 0.0, 0.0, ...</td>\n",
              "    </tr>\n",
              "    <tr>\n",
              "      <th>3</th>\n",
              "      <td>[0.0, 0.0, 0.0, 0.0, 0.0, 0.0, 0.0, 0.0, 0.0, ...</td>\n",
              "    </tr>\n",
              "    <tr>\n",
              "      <th>4</th>\n",
              "      <td>[0.0, 0.0, 0.0, 0.0, 0.0, 0.0, 0.0, 0.0, 0.0, ...</td>\n",
              "    </tr>\n",
              "    <tr>\n",
              "      <th>...</th>\n",
              "      <td>...</td>\n",
              "    </tr>\n",
              "    <tr>\n",
              "      <th>4702</th>\n",
              "      <td>[0.0, 0.0, 0.0, 0.0, 0.0, 0.0, 0.0, 0.0, 0.0, ...</td>\n",
              "    </tr>\n",
              "    <tr>\n",
              "      <th>4703</th>\n",
              "      <td>[0.0, 0.0, 0.0, 0.0, 0.0, 0.0, 0.0, 0.0, 0.0, ...</td>\n",
              "    </tr>\n",
              "    <tr>\n",
              "      <th>4704</th>\n",
              "      <td>[0.0, 0.0, 0.0, 0.0, 0.0, 0.0, 0.0, 0.0, 0.0, ...</td>\n",
              "    </tr>\n",
              "    <tr>\n",
              "      <th>4705</th>\n",
              "      <td>[0.0, 0.0, 0.0, 0.0, 0.0, 0.0, 0.0, 0.0, 0.0, ...</td>\n",
              "    </tr>\n",
              "    <tr>\n",
              "      <th>4706</th>\n",
              "      <td>[0.0, 0.0, 0.0, 0.0, 0.0, 0.0, 0.0, 0.0, 0.0, ...</td>\n",
              "    </tr>\n",
              "  </tbody>\n",
              "</table>\n",
              "<p>4707 rows × 1 columns</p>\n",
              "</div><br><label><b>dtype:</b> object</label>"
            ]
          },
          "metadata": {},
          "execution_count": 15
        }
      ],
      "source": [
        "# this code is just a hint, if you want you can do it as you please\n",
        "# as long as the output remains the same\n",
        "encoded_labels = []\n",
        "for index, row in tqdm(df.iterrows(), total=len(df)):\n",
        "    sentence_encode = [] # set of encodings for this overview\n",
        "    for word in row[\"proc_overview\"]:\n",
        "        if word in vocab:\n",
        "          sentence_encode.append(encode_labels(word,vocab)) # get encoding for this word\n",
        "\n",
        "\n",
        "    if sentence_encode:\n",
        "      sentence_encode = np.sum(sentence_encode, axis=0)\n",
        "\n",
        "    else:\n",
        "      sentence_encode = np.zeros(len(vocab))\n",
        "\n",
        "    encoded_labels.append(sentence_encode)\n",
        "\n",
        "\n",
        "df[\"one_hot_overview\"] = encoded_labels\n",
        "df['one_hot_overview'] # print to verify"
      ]
    },
    {
      "cell_type": "code",
      "source": [
        "vocab = set()\n",
        "for words in df[\"proc_overview\"]:\n",
        "    vocab.update(words)\n",
        "\n",
        "vocab = sorted(list(vocab))\n",
        "\n",
        "vocab_len = len(vocab)\n",
        "num_rows = len(df)\n",
        "bytes_per_float = 16\n",
        "total_bytes = num_rows * vocab_len * bytes_per_float\n",
        "\n",
        "print(vocab_len)\n",
        "print(num_rows)\n",
        "print(total_bytes)"
      ],
      "metadata": {
        "colab": {
          "base_uri": "https://localhost:8080/"
        },
        "id": "ClP1HmfUZQKJ",
        "outputId": "894713e4-d782-4b69-b566-f34cfb2cb4cf"
      },
      "id": "ClP1HmfUZQKJ",
      "execution_count": null,
      "outputs": [
        {
          "output_type": "stream",
          "name": "stdout",
          "text": [
            "12493\n",
            "4707\n",
            "940872816\n"
          ]
        }
      ]
    },
    {
      "cell_type": "markdown",
      "id": "7c62e127",
      "metadata": {
        "id": "7c62e127"
      },
      "source": [
        "**Q2.2.5** Each vector is a vector of floating point (64-bit) numbers. Assuming each float takes up exactly 16-bytes, how many bytes does this take to store (theoretically)?"
      ]
    },
    {
      "cell_type": "markdown",
      "id": "193b8235",
      "metadata": {
        "id": "193b8235"
      },
      "source": [
        "940872816, see code above."
      ]
    },
    {
      "cell_type": "markdown",
      "id": "1f3b3700",
      "metadata": {
        "id": "1f3b3700"
      },
      "source": [
        "# Q3 Principal Component Analysis\n",
        "\n",
        "**Q3.1** Using the overview encoded into one-hot encodings, perform PCA and plot this into a 2-D image as a scatter plot."
      ]
    },
    {
      "cell_type": "code",
      "execution_count": null,
      "id": "832f2be7",
      "metadata": {
        "id": "832f2be7",
        "colab": {
          "base_uri": "https://localhost:8080/",
          "height": 564
        },
        "outputId": "e4ccb57d-a4e9-49f1-a502-b955f1fb10e6"
      },
      "outputs": [
        {
          "output_type": "display_data",
          "data": {
            "text/plain": [
              "<Figure size 1000x600 with 1 Axes>"
            ],
            "image/png": "[encoded data removed]"
          },
          "metadata": {}
        }
      ],
      "source": [
        "# import PCA decomposition class from sklearn\n",
        "import numpy as np\n",
        "\n",
        "from sklearn.decomposition import PCA\n",
        "\n",
        "X = np.stack(df[\"one_hot_overview\"].values)\n",
        "pca = PCA(n_components=2)\n",
        "X_pca = pca.fit_transform(X)\n",
        "\n",
        "plt.figure(figsize=(10, 6))\n",
        "plt.scatter(X_pca[:, 0], X_pca[:, 1], alpha=0.5, s=10)\n",
        "plt.title(\"Movie Overviews Projected Using PCA\")\n",
        "plt.xlabel(\"Principal Component 1\")\n",
        "plt.ylabel(\"Principal Component 2\")\n",
        "plt.grid(True)\n",
        "plt.show()\n",
        "# we did exactly this in the lecture notebook"
      ]
    },
    {
      "cell_type": "markdown",
      "id": "a63054b6",
      "metadata": {
        "id": "a63054b6"
      },
      "source": [
        "**Q3.2** Do you see any interpretable structure in the above plot\n",
        "\n",
        "(\"interpretable\" $\\rightarrow$ the patterns are explainable)."
      ]
    },
    {
      "cell_type": "markdown",
      "id": "a9409e7b",
      "metadata": {
        "id": "a9409e7b"
      },
      "source": [
        " the PCA plot shows interpretable structure through clustered bands, suggesting that many movie overviews share similar vocabulary patterns, likely reflecting genre or thematic similarities"
      ]
    },
    {
      "cell_type": "code",
      "source": [
        "explained = np.sum(pca.explained_variance_ratio_)\n",
        "lost = 1 - explained\n",
        "print(\"Explained: \", explained)\n",
        "print(\"Lost: \", lost)"
      ],
      "metadata": {
        "colab": {
          "base_uri": "https://localhost:8080/"
        },
        "id": "YmFqTzxqPuDt",
        "outputId": "43918f04-ee1c-402a-b28f-b2592a32e5c3"
      },
      "id": "YmFqTzxqPuDt",
      "execution_count": null,
      "outputs": [
        {
          "output_type": "stream",
          "name": "stdout",
          "text": [
            "Explained:  0.11288450867524324\n",
            "Lost:  0.8871154913247568\n"
          ]
        }
      ]
    },
    {
      "cell_type": "markdown",
      "id": "4482c5e5",
      "metadata": {
        "id": "4482c5e5"
      },
      "source": [
        "**Q3.3** Quantify how much variance information a 2D PCA projection loses for this dataset."
      ]
    },
    {
      "cell_type": "markdown",
      "id": "2338a25d",
      "metadata": {
        "id": "2338a25d"
      },
      "source": [
        "See above, 88.7%."
      ]
    },
    {
      "cell_type": "markdown",
      "id": "7da99ba5",
      "metadata": {
        "id": "7da99ba5"
      },
      "source": [
        "**Q3.4** Plot a line graph where the y-axis is cumulative explained variance ratio and the x-axis is the number of PCA components."
      ]
    },
    {
      "cell_type": "code",
      "execution_count": null,
      "id": "e0cac8ff",
      "metadata": {
        "scrolled": false,
        "id": "e0cac8ff",
        "colab": {
          "base_uri": "https://localhost:8080/",
          "height": 356
        },
        "outputId": "88519d25-313e-4655-e4ac-fba3804383eb"
      },
      "outputs": [
        {
          "output_type": "error",
          "ename": "KeyboardInterrupt",
          "evalue": "",
          "traceback": [
            "\u001b[0;31m---------------------------------------------------------------------------\u001b[0m",
            "\u001b[0;31mKeyboardInterrupt\u001b[0m                         Traceback (most recent call last)",
            "\u001b[0;32m<ipython-input-21-ebb9478e1f72>\u001b[0m in \u001b[0;36m<cell line: 0>\u001b[0;34m()\u001b[0m\n\u001b[1;32m      2\u001b[0m \u001b[0mpca\u001b[0m \u001b[0;34m=\u001b[0m \u001b[0mPCA\u001b[0m\u001b[0;34m(\u001b[0m\u001b[0mn_components\u001b[0m\u001b[0;34m=\u001b[0m\u001b[0;36m100\u001b[0m\u001b[0;34m)\u001b[0m\u001b[0;34m\u001b[0m\u001b[0;34m\u001b[0m\u001b[0m\n\u001b[1;32m      3\u001b[0m \u001b[0;31m# fit transform one_hot_overview encodings\u001b[0m\u001b[0;34m\u001b[0m\u001b[0;34m\u001b[0m\u001b[0m\n\u001b[0;32m----> 4\u001b[0;31m \u001b[0mlabels_pca\u001b[0m \u001b[0;34m=\u001b[0m \u001b[0mpca\u001b[0m\u001b[0;34m.\u001b[0m\u001b[0mfit_transform\u001b[0m\u001b[0;34m(\u001b[0m\u001b[0mX\u001b[0m\u001b[0;34m)\u001b[0m\u001b[0;34m\u001b[0m\u001b[0;34m\u001b[0m\u001b[0m\n\u001b[0m\u001b[1;32m      5\u001b[0m \u001b[0;31m# get explained variance ratio from object, store it in a list\u001b[0m\u001b[0;34m\u001b[0m\u001b[0;34m\u001b[0m\u001b[0m\n\u001b[1;32m      6\u001b[0m \u001b[0mpowers\u001b[0m \u001b[0;34m=\u001b[0m \u001b[0mpca\u001b[0m\u001b[0;34m.\u001b[0m\u001b[0mexplained_variance_ratio_\u001b[0m\u001b[0;34m\u001b[0m\u001b[0;34m\u001b[0m\u001b[0m\n",
            "\u001b[0;32m/usr/local/lib/python3.11/dist-packages/sklearn/utils/_set_output.py\u001b[0m in \u001b[0;36mwrapped\u001b[0;34m(self, X, *args, **kwargs)\u001b[0m\n\u001b[1;32m    317\u001b[0m     \u001b[0;34m@\u001b[0m\u001b[0mwraps\u001b[0m\u001b[0;34m(\u001b[0m\u001b[0mf\u001b[0m\u001b[0;34m)\u001b[0m\u001b[0;34m\u001b[0m\u001b[0;34m\u001b[0m\u001b[0m\n\u001b[1;32m    318\u001b[0m     \u001b[0;32mdef\u001b[0m \u001b[0mwrapped\u001b[0m\u001b[0;34m(\u001b[0m\u001b[0mself\u001b[0m\u001b[0;34m,\u001b[0m \u001b[0mX\u001b[0m\u001b[0;34m,\u001b[0m \u001b[0;34m*\u001b[0m\u001b[0margs\u001b[0m\u001b[0;34m,\u001b[0m \u001b[0;34m**\u001b[0m\u001b[0mkwargs\u001b[0m\u001b[0;34m)\u001b[0m\u001b[0;34m:\u001b[0m\u001b[0;34m\u001b[0m\u001b[0;34m\u001b[0m\u001b[0m\n\u001b[0;32m--> 319\u001b[0;31m         \u001b[0mdata_to_wrap\u001b[0m \u001b[0;34m=\u001b[0m \u001b[0mf\u001b[0m\u001b[0;34m(\u001b[0m\u001b[0mself\u001b[0m\u001b[0;34m,\u001b[0m \u001b[0mX\u001b[0m\u001b[0;34m,\u001b[0m \u001b[0;34m*\u001b[0m\u001b[0margs\u001b[0m\u001b[0;34m,\u001b[0m \u001b[0;34m**\u001b[0m\u001b[0mkwargs\u001b[0m\u001b[0;34m)\u001b[0m\u001b[0;34m\u001b[0m\u001b[0;34m\u001b[0m\u001b[0m\n\u001b[0m\u001b[1;32m    320\u001b[0m         \u001b[0;32mif\u001b[0m \u001b[0misinstance\u001b[0m\u001b[0;34m(\u001b[0m\u001b[0mdata_to_wrap\u001b[0m\u001b[0;34m,\u001b[0m \u001b[0mtuple\u001b[0m\u001b[0;34m)\u001b[0m\u001b[0;34m:\u001b[0m\u001b[0;34m\u001b[0m\u001b[0;34m\u001b[0m\u001b[0m\n\u001b[1;32m    321\u001b[0m             \u001b[0;31m# only wrap the first output for cross decomposition\u001b[0m\u001b[0;34m\u001b[0m\u001b[0;34m\u001b[0m\u001b[0m\n",
            "\u001b[0;32m/usr/local/lib/python3.11/dist-packages/sklearn/base.py\u001b[0m in \u001b[0;36mwrapper\u001b[0;34m(estimator, *args, **kwargs)\u001b[0m\n\u001b[1;32m   1387\u001b[0m                 )\n\u001b[1;32m   1388\u001b[0m             ):\n\u001b[0;32m-> 1389\u001b[0;31m                 \u001b[0;32mreturn\u001b[0m \u001b[0mfit_method\u001b[0m\u001b[0;34m(\u001b[0m\u001b[0mestimator\u001b[0m\u001b[0;34m,\u001b[0m \u001b[0;34m*\u001b[0m\u001b[0margs\u001b[0m\u001b[0;34m,\u001b[0m \u001b[0;34m**\u001b[0m\u001b[0mkwargs\u001b[0m\u001b[0;34m)\u001b[0m\u001b[0;34m\u001b[0m\u001b[0;34m\u001b[0m\u001b[0m\n\u001b[0m\u001b[1;32m   1390\u001b[0m \u001b[0;34m\u001b[0m\u001b[0m\n\u001b[1;32m   1391\u001b[0m         \u001b[0;32mreturn\u001b[0m \u001b[0mwrapper\u001b[0m\u001b[0;34m\u001b[0m\u001b[0;34m\u001b[0m\u001b[0m\n",
            "\u001b[0;32m/usr/local/lib/python3.11/dist-packages/sklearn/decomposition/_pca.py\u001b[0m in \u001b[0;36mfit_transform\u001b[0;34m(self, X, y)\u001b[0m\n\u001b[1;32m    466\u001b[0m         \u001b[0mC\u001b[0m\u001b[0;34m-\u001b[0m\u001b[0mordered\u001b[0m \u001b[0marray\u001b[0m\u001b[0;34m,\u001b[0m \u001b[0muse\u001b[0m \u001b[0;34m'np.ascontiguousarray'\u001b[0m\u001b[0;34m.\u001b[0m\u001b[0;34m\u001b[0m\u001b[0;34m\u001b[0m\u001b[0m\n\u001b[1;32m    467\u001b[0m         \"\"\"\n\u001b[0;32m--> 468\u001b[0;31m         \u001b[0mU\u001b[0m\u001b[0;34m,\u001b[0m \u001b[0mS\u001b[0m\u001b[0;34m,\u001b[0m \u001b[0m_\u001b[0m\u001b[0;34m,\u001b[0m \u001b[0mX\u001b[0m\u001b[0;34m,\u001b[0m \u001b[0mx_is_centered\u001b[0m\u001b[0;34m,\u001b[0m \u001b[0mxp\u001b[0m \u001b[0;34m=\u001b[0m \u001b[0mself\u001b[0m\u001b[0;34m.\u001b[0m\u001b[0m_fit\u001b[0m\u001b[0;34m(\u001b[0m\u001b[0mX\u001b[0m\u001b[0;34m)\u001b[0m\u001b[0;34m\u001b[0m\u001b[0;34m\u001b[0m\u001b[0m\n\u001b[0m\u001b[1;32m    469\u001b[0m         \u001b[0;32mif\u001b[0m \u001b[0mU\u001b[0m \u001b[0;32mis\u001b[0m \u001b[0;32mnot\u001b[0m \u001b[0;32mNone\u001b[0m\u001b[0;34m:\u001b[0m\u001b[0;34m\u001b[0m\u001b[0;34m\u001b[0m\u001b[0m\n\u001b[1;32m    470\u001b[0m             \u001b[0mU\u001b[0m \u001b[0;34m=\u001b[0m \u001b[0mU\u001b[0m\u001b[0;34m[\u001b[0m\u001b[0;34m:\u001b[0m\u001b[0;34m,\u001b[0m \u001b[0;34m:\u001b[0m \u001b[0mself\u001b[0m\u001b[0;34m.\u001b[0m\u001b[0mn_components_\u001b[0m\u001b[0;34m]\u001b[0m\u001b[0;34m\u001b[0m\u001b[0;34m\u001b[0m\u001b[0m\n",
            "\u001b[0;32m/usr/local/lib/python3.11/dist-packages/sklearn/decomposition/_pca.py\u001b[0m in \u001b[0;36m_fit\u001b[0;34m(self, X)\u001b[0m\n\u001b[1;32m    542\u001b[0m             \u001b[0;32mreturn\u001b[0m \u001b[0mself\u001b[0m\u001b[0;34m.\u001b[0m\u001b[0m_fit_full\u001b[0m\u001b[0;34m(\u001b[0m\u001b[0mX\u001b[0m\u001b[0;34m,\u001b[0m \u001b[0mn_components\u001b[0m\u001b[0;34m,\u001b[0m \u001b[0mxp\u001b[0m\u001b[0;34m,\u001b[0m \u001b[0mis_array_api_compliant\u001b[0m\u001b[0;34m)\u001b[0m\u001b[0;34m\u001b[0m\u001b[0;34m\u001b[0m\u001b[0m\n\u001b[1;32m    543\u001b[0m         \u001b[0;32melif\u001b[0m \u001b[0mself\u001b[0m\u001b[0;34m.\u001b[0m\u001b[0m_fit_svd_solver\u001b[0m \u001b[0;32min\u001b[0m \u001b[0;34m[\u001b[0m\u001b[0;34m\"arpack\"\u001b[0m\u001b[0;34m,\u001b[0m \u001b[0;34m\"randomized\"\u001b[0m\u001b[0;34m]\u001b[0m\u001b[0;34m:\u001b[0m\u001b[0;34m\u001b[0m\u001b[0;34m\u001b[0m\u001b[0m\n\u001b[0;32m--> 544\u001b[0;31m             \u001b[0;32mreturn\u001b[0m \u001b[0mself\u001b[0m\u001b[0;34m.\u001b[0m\u001b[0m_fit_truncated\u001b[0m\u001b[0;34m(\u001b[0m\u001b[0mX\u001b[0m\u001b[0;34m,\u001b[0m \u001b[0mn_components\u001b[0m\u001b[0;34m,\u001b[0m \u001b[0mxp\u001b[0m\u001b[0;34m)\u001b[0m\u001b[0;34m\u001b[0m\u001b[0;34m\u001b[0m\u001b[0m\n\u001b[0m\u001b[1;32m    545\u001b[0m \u001b[0;34m\u001b[0m\u001b[0m\n\u001b[1;32m    546\u001b[0m     \u001b[0;32mdef\u001b[0m \u001b[0m_fit_full\u001b[0m\u001b[0;34m(\u001b[0m\u001b[0mself\u001b[0m\u001b[0;34m,\u001b[0m \u001b[0mX\u001b[0m\u001b[0;34m,\u001b[0m \u001b[0mn_components\u001b[0m\u001b[0;34m,\u001b[0m \u001b[0mxp\u001b[0m\u001b[0;34m,\u001b[0m \u001b[0mis_array_api_compliant\u001b[0m\u001b[0;34m)\u001b[0m\u001b[0;34m:\u001b[0m\u001b[0;34m\u001b[0m\u001b[0;34m\u001b[0m\u001b[0m\n",
            "\u001b[0;32m/usr/local/lib/python3.11/dist-packages/sklearn/decomposition/_pca.py\u001b[0m in \u001b[0;36m_fit_truncated\u001b[0;34m(self, X, n_components, xp)\u001b[0m\n\u001b[1;32m    757\u001b[0m         \u001b[0;32melif\u001b[0m \u001b[0msvd_solver\u001b[0m \u001b[0;34m==\u001b[0m \u001b[0;34m\"randomized\"\u001b[0m\u001b[0;34m:\u001b[0m\u001b[0;34m\u001b[0m\u001b[0;34m\u001b[0m\u001b[0m\n\u001b[1;32m    758\u001b[0m             \u001b[0;31m# sign flipping is done inside\u001b[0m\u001b[0;34m\u001b[0m\u001b[0;34m\u001b[0m\u001b[0m\n\u001b[0;32m--> 759\u001b[0;31m             U, S, Vt = randomized_svd(\n\u001b[0m\u001b[1;32m    760\u001b[0m                 \u001b[0mX_centered\u001b[0m\u001b[0;34m,\u001b[0m\u001b[0;34m\u001b[0m\u001b[0;34m\u001b[0m\u001b[0m\n\u001b[1;32m    761\u001b[0m                 \u001b[0mn_components\u001b[0m\u001b[0;34m=\u001b[0m\u001b[0mn_components\u001b[0m\u001b[0;34m,\u001b[0m\u001b[0;34m\u001b[0m\u001b[0;34m\u001b[0m\u001b[0m\n",
            "\u001b[0;32m/usr/local/lib/python3.11/dist-packages/sklearn/utils/_param_validation.py\u001b[0m in \u001b[0;36mwrapper\u001b[0;34m(*args, **kwargs)\u001b[0m\n\u001b[1;32m    187\u001b[0m             \u001b[0mglobal_skip_validation\u001b[0m \u001b[0;34m=\u001b[0m \u001b[0mget_config\u001b[0m\u001b[0;34m(\u001b[0m\u001b[0;34m)\u001b[0m\u001b[0;34m[\u001b[0m\u001b[0;34m\"skip_parameter_validation\"\u001b[0m\u001b[0;34m]\u001b[0m\u001b[0;34m\u001b[0m\u001b[0;34m\u001b[0m\u001b[0m\n\u001b[1;32m    188\u001b[0m             \u001b[0;32mif\u001b[0m \u001b[0mglobal_skip_validation\u001b[0m\u001b[0;34m:\u001b[0m\u001b[0;34m\u001b[0m\u001b[0;34m\u001b[0m\u001b[0m\n\u001b[0;32m--> 189\u001b[0;31m                 \u001b[0;32mreturn\u001b[0m \u001b[0mfunc\u001b[0m\u001b[0;34m(\u001b[0m\u001b[0;34m*\u001b[0m\u001b[0margs\u001b[0m\u001b[0;34m,\u001b[0m \u001b[0;34m**\u001b[0m\u001b[0mkwargs\u001b[0m\u001b[0;34m)\u001b[0m\u001b[0;34m\u001b[0m\u001b[0;34m\u001b[0m\u001b[0m\n\u001b[0m\u001b[1;32m    190\u001b[0m \u001b[0;34m\u001b[0m\u001b[0m\n\u001b[1;32m    191\u001b[0m             \u001b[0mfunc_sig\u001b[0m \u001b[0;34m=\u001b[0m \u001b[0msignature\u001b[0m\u001b[0;34m(\u001b[0m\u001b[0mfunc\u001b[0m\u001b[0;34m)\u001b[0m\u001b[0;34m\u001b[0m\u001b[0;34m\u001b[0m\u001b[0m\n",
            "\u001b[0;32m/usr/local/lib/python3.11/dist-packages/sklearn/utils/extmath.py\u001b[0m in \u001b[0;36mrandomized_svd\u001b[0;34m(M, n_components, n_oversamples, n_iter, power_iteration_normalizer, transpose, flip_sign, random_state, svd_lapack_driver)\u001b[0m\n\u001b[1;32m    541\u001b[0m         \u001b[0;31m# instead of numpy.linalg to avoid introducing a behavior change w.r.t.\u001b[0m\u001b[0;34m\u001b[0m\u001b[0;34m\u001b[0m\u001b[0m\n\u001b[1;32m    542\u001b[0m         \u001b[0;31m# previous versions of scikit-learn.\u001b[0m\u001b[0;34m\u001b[0m\u001b[0;34m\u001b[0m\u001b[0m\n\u001b[0;32m--> 543\u001b[0;31m         Uhat, s, Vt = linalg.svd(\n\u001b[0m\u001b[1;32m    544\u001b[0m             \u001b[0mB\u001b[0m\u001b[0;34m,\u001b[0m \u001b[0mfull_matrices\u001b[0m\u001b[0;34m=\u001b[0m\u001b[0;32mFalse\u001b[0m\u001b[0;34m,\u001b[0m \u001b[0mlapack_driver\u001b[0m\u001b[0;34m=\u001b[0m\u001b[0msvd_lapack_driver\u001b[0m\u001b[0;34m\u001b[0m\u001b[0;34m\u001b[0m\u001b[0m\n\u001b[1;32m    545\u001b[0m         )\n",
            "\u001b[0;32m/usr/local/lib/python3.11/dist-packages/scipy/linalg/_decomp_svd.py\u001b[0m in \u001b[0;36msvd\u001b[0;34m(a, full_matrices, compute_uv, overwrite_a, check_finite, lapack_driver)\u001b[0m\n\u001b[1;32m    158\u001b[0m \u001b[0;34m\u001b[0m\u001b[0m\n\u001b[1;32m    159\u001b[0m     \u001b[0;31m# perform decomposition\u001b[0m\u001b[0;34m\u001b[0m\u001b[0;34m\u001b[0m\u001b[0m\n\u001b[0;32m--> 160\u001b[0;31m     u, s, v, info = gesXd(a1, compute_uv=compute_uv, lwork=lwork,\n\u001b[0m\u001b[1;32m    161\u001b[0m                           full_matrices=full_matrices, overwrite_a=overwrite_a)\n\u001b[1;32m    162\u001b[0m \u001b[0;34m\u001b[0m\u001b[0m\n",
            "\u001b[0;31mKeyboardInterrupt\u001b[0m: "
          ]
        }
      ],
      "source": [
        "# Set up PCA object with the desired number of components\n",
        "pca = PCA(n_components=100)\n",
        "# fit transform one_hot_overview encodings\n",
        "labels_pca = pca.fit_transform(X)\n",
        "# get explained variance ratio from object, store it in a list\n",
        "powers = pca.explained_variance_ratio_\n",
        "\n",
        "plt.plot(powers, label=\"Explained Variance\")\n",
        "plt.plot([np.sum(powers[:i]) for i in range(len(powers)-1)], label=\"Cumulative Explained Variance\")\n",
        "plt.legend()\n",
        "# set up y label, x label, title\n",
        "plt.show()"
      ]
    },
    {
      "cell_type": "code",
      "source": [],
      "metadata": {
        "colab": {
          "base_uri": "https://localhost:8080/"
        },
        "id": "9uyOmmPOVFbo",
        "outputId": "08948bcb-f8d1-4c7e-cec4-7fc55caa1cb8"
      },
      "id": "9uyOmmPOVFbo",
      "execution_count": null,
      "outputs": [
        {
          "output_type": "stream",
          "name": "stdout",
          "text": [
            "Components needed to reach 80% variance: 1\n"
          ]
        }
      ]
    },
    {
      "cell_type": "markdown",
      "id": "8b36c9b2",
      "metadata": {
        "id": "8b36c9b2"
      },
      "source": [
        "**Q3.5** How many principal components do you need in order to explain 80% of the total variance in the data?\n",
        "\n",
        "Note: don't just estimate it by eye, write some code to compute it for you."
      ]
    },
    {
      "cell_type": "code",
      "execution_count": null,
      "id": "95c44b2d",
      "metadata": {
        "id": "95c44b2d",
        "colab": {
          "base_uri": "https://localhost:8080/"
        },
        "outputId": "be91a491-83d2-4cc6-fa21-e8ea767dac8f"
      },
      "outputs": [
        {
          "output_type": "stream",
          "name": "stdout",
          "text": [
            "Components needed to reach 80% variance: 1226\n"
          ]
        }
      ],
      "source": [
        "pca = PCA(n_components=X.shape[0])\n",
        "labels_pca = pca.fit_transform(X)\n",
        "\n",
        "powers = pca.explained_variance_ratio_\n",
        "cumulative_variance = np.cumsum(powers)\n",
        "components_needed = np.argmax(cumulative_variance >= 0.80) + 1\n",
        "\n",
        "print(\"Components needed to reach 80% variance:\", components_needed)"
      ]
    },
    {
      "cell_type": "markdown",
      "id": "b608db91",
      "metadata": {
        "id": "b608db91"
      },
      "source": [
        "it took too long too run but i assume approximately 1500."
      ]
    },
    {
      "cell_type": "markdown",
      "id": "ee3b5c33",
      "metadata": {
        "id": "ee3b5c33"
      },
      "source": [
        "**Q3.6** Using the number of dimensions you found in Q3.5, fit and transform your overview encodings using PCA and add it to a new column called `overview_pca` in the dataframe."
      ]
    },
    {
      "cell_type": "code",
      "execution_count": null,
      "id": "8a6eb40b",
      "metadata": {
        "id": "8a6eb40b"
      },
      "outputs": [],
      "source": [
        "# I assume 1500 here\n",
        "n_dims = 1500\n",
        "pca = PCA(n_components=n_dims)\n",
        "labels_pca = pca.fit_transform(X)\n",
        "df[\"overview_pca\"] = list(labels_pca)"
      ]
    },
    {
      "cell_type": "markdown",
      "id": "309d3256",
      "metadata": {
        "id": "309d3256"
      },
      "source": [
        "# Q4 K-Means Clustering\n",
        "\n",
        "**Q4.1** Cluster the movies based on the features that were extracted via PCA in the last step. Set $K=20$. Add the predicted cluster into the dataframe as a new column called `cluster_kmeans`. Print out the elements of cluster number 0 from the dataframe."
      ]
    },
    {
      "cell_type": "code",
      "execution_count": null,
      "id": "f5f5781e",
      "metadata": {
        "id": "f5f5781e",
        "colab": {
          "base_uri": "https://localhost:8080/"
        },
        "outputId": "26b0829e-2300-48b2-815c-9b7f5f5d6ca2"
      },
      "outputs": [
        {
          "output_type": "stream",
          "name": "stdout",
          "text": [
            "count    4707.0\n",
            "mean     1500.0\n",
            "std         0.0\n",
            "min      1500.0\n",
            "25%      1500.0\n",
            "50%      1500.0\n",
            "75%      1500.0\n",
            "max      1500.0\n",
            "Name: overview_pca, dtype: float64\n",
            "                                         title  \\\n",
            "1     Pirates of the Caribbean: At World's End   \n",
            "10                            Superman Returns   \n",
            "25                                     Titanic   \n",
            "61                        The Legend of Tarzan   \n",
            "85                         Shrek Forever After   \n",
            "...                                        ...   \n",
            "4659                            Tiny Furniture   \n",
            "4681                               Funny Ha Ha   \n",
            "4686                               Dutch Kills   \n",
            "4687                                 Dry Spell   \n",
            "4695                                     Clean   \n",
            "\n",
            "                                               overview  \\\n",
            "1     Captain Barbossa, long believed to be dead, ha...   \n",
            "10    Superman returns to discover his 5-year absenc...   \n",
            "25    84 years later, a 101-year-old woman named Ros...   \n",
            "61    Tarzan, having acclimated to life in London, i...   \n",
            "85    A bored and domesticated Shrek pacts with deal...   \n",
            "...                                                 ...   \n",
            "4659  After graduating from film school, Aura return...   \n",
            "4681  Unsure of what to do next, 23-year-old Marnie ...   \n",
            "4686  A desperate ex-con is forced to gather his old...   \n",
            "4687  Sasha tries to get her soon-to-be ex husband K...   \n",
            "4695  After losing her husband to a heroin overdose,...   \n",
            "\n",
            "                                                 genres proc_genres  \\\n",
            "1     [{\"id\": 12, \"name\": \"Adventure\"}, {\"id\": 14, \"...     Fantasy   \n",
            "10    [{\"id\": 12, \"name\": \"Adventure\"}, {\"id\": 14, \"...   Adventure   \n",
            "25    [{\"id\": 18, \"name\": \"Drama\"}, {\"id\": 10749, \"n...     Romance   \n",
            "61    [{\"id\": 28, \"name\": \"Action\"}, {\"id\": 12, \"nam...      Action   \n",
            "85    [{\"id\": 35, \"name\": \"Comedy\"}, {\"id\": 12, \"nam...      Family   \n",
            "...                                                 ...         ...   \n",
            "4659  [{\"id\": 10749, \"name\": \"Romance\"}, {\"id\": 35, ...      Comedy   \n",
            "4681  [{\"id\": 18, \"name\": \"Drama\"}, {\"id\": 35, \"name...      Comedy   \n",
            "4686  [{\"id\": 53, \"name\": \"Thriller\"}, {\"id\": 80, \"n...       Drama   \n",
            "4687  [{\"id\": 35, \"name\": \"Comedy\"}, {\"id\": 10749, \"...      Comedy   \n",
            "4695                      [{\"id\": 18, \"name\": \"Drama\"}]       Drama   \n",
            "\n",
            "                                         one_hot_genres  \\\n",
            "1     [0.0, 0.0, 0.0, 0.0, 0.0, 0.0, 0.0, 0.0, 1.0, ...   \n",
            "10    [0.0, 1.0, 0.0, 0.0, 0.0, 0.0, 0.0, 0.0, 0.0, ...   \n",
            "25    [0.0, 0.0, 0.0, 0.0, 0.0, 0.0, 0.0, 0.0, 0.0, ...   \n",
            "61    [1.0, 0.0, 0.0, 0.0, 0.0, 0.0, 0.0, 0.0, 0.0, ...   \n",
            "85    [0.0, 0.0, 0.0, 0.0, 0.0, 0.0, 0.0, 1.0, 0.0, ...   \n",
            "...                                                 ...   \n",
            "4659  [0.0, 0.0, 0.0, 1.0, 0.0, 0.0, 0.0, 0.0, 0.0, ...   \n",
            "4681  [0.0, 0.0, 0.0, 1.0, 0.0, 0.0, 0.0, 0.0, 0.0, ...   \n",
            "4686  [0.0, 0.0, 0.0, 0.0, 0.0, 0.0, 1.0, 0.0, 0.0, ...   \n",
            "4687  [0.0, 0.0, 0.0, 1.0, 0.0, 0.0, 0.0, 0.0, 0.0, ...   \n",
            "4695  [0.0, 0.0, 0.0, 0.0, 0.0, 0.0, 1.0, 0.0, 0.0, ...   \n",
            "\n",
            "                                          proc_overview  overview_len  \\\n",
            "1     [captain, barbossa, long, believed, to, be, de...            34   \n",
            "10    [superman, returns, to, discover, his, 5year, ...            55   \n",
            "25    [84, years, later, a, 101yearold, woman, named...           116   \n",
            "61    [tarzan, having, acclimated, to, life, in, lon...            25   \n",
            "85    [a, bored, and, domesticated, shrek, pacts, wi...            57   \n",
            "...                                                 ...           ...   \n",
            "4659  [after, graduating, from, film, school, aura, ...            69   \n",
            "4681  [unsure, of, what, to, do, next, 23yearold, ma...            56   \n",
            "4686  [a, desperate, excon, is, forced, to, gather, ...            25   \n",
            "4687  [sasha, tries, to, get, her, soontobe, ex, hus...            20   \n",
            "4695  [after, losing, her, husband, to, a, heroin, o...            24   \n",
            "\n",
            "                                       one_hot_overview  \\\n",
            "1     [0.0, 0.0, 0.0, 0.0, 0.0, 0.0, 0.0, 0.0, 0.0, ...   \n",
            "10    [0.0, 0.0, 0.0, 0.0, 0.0, 0.0, 0.0, 0.0, 0.0, ...   \n",
            "25    [0.0, 0.0, 0.0, 0.0, 0.0, 0.0, 0.0, 0.0, 1.0, ...   \n",
            "61    [0.0, 0.0, 0.0, 0.0, 0.0, 0.0, 0.0, 0.0, 0.0, ...   \n",
            "85    [0.0, 0.0, 0.0, 0.0, 0.0, 0.0, 0.0, 0.0, 0.0, ...   \n",
            "...                                                 ...   \n",
            "4659  [0.0, 0.0, 0.0, 0.0, 0.0, 0.0, 0.0, 0.0, 0.0, ...   \n",
            "4681  [0.0, 0.0, 0.0, 0.0, 0.0, 0.0, 0.0, 0.0, 0.0, ...   \n",
            "4686  [0.0, 0.0, 0.0, 0.0, 0.0, 0.0, 0.0, 0.0, 0.0, ...   \n",
            "4687  [0.0, 0.0, 0.0, 0.0, 0.0, 0.0, 0.0, 0.0, 0.0, ...   \n",
            "4695  [0.0, 0.0, 0.0, 0.0, 0.0, 0.0, 0.0, 0.0, 0.0, ...   \n",
            "\n",
            "                                           overview_pca  cluster_kmeans  \n",
            "1     [-0.3780729300588919, -1.593471849772336, 0.93...               0  \n",
            "10    [-0.41842339451417726, -1.7522302131619205, 0....               0  \n",
            "25    [-0.020169101465484663, 0.008399621369608933, ...               0  \n",
            "61    [-0.35525990521901996, -1.376173208483804, 1.1...               0  \n",
            "85    [-0.9565727538074323, -0.8194890228894918, 0.8...               0  \n",
            "...                                                 ...             ...  \n",
            "4659  [-0.4237848213939272, -1.4289670464045994, 1.4...               0  \n",
            "4681  [-0.05474505344436919, -1.0665207990048033, 1....               0  \n",
            "4686  [-0.9662938125088465, -0.7441525914520212, 1.4...               0  \n",
            "4687  [-0.27659243170077874, -1.2158111988544982, 0....               0  \n",
            "4695  [-0.9613109084872127, -0.6947676705842666, 1.4...               0  \n",
            "\n",
            "[169 rows x 10 columns]\n",
            "Number of movies in cluster 0: 169\n"
          ]
        }
      ],
      "source": [
        "# import KMeans class\n",
        "from sklearn.cluster import KMeans\n",
        "X_pca = np.stack(df[\"overview_pca\"].values)\n",
        "print(df[\"overview_pca\"].apply(len).describe())\n",
        "# Perform K-means clustering\n",
        "kmeans = KMeans(n_clusters=20)\n",
        "# fit model\n",
        "kmeans.fit(X_pca)\n",
        "\n",
        "y_preds = kmeans.predict(X_pca) # get predictions\n",
        "df[\"cluster_kmeans\"] = y_preds # set predictions\n",
        "\n",
        "# print out elements of cluster 0\n",
        "print(df[df[\"cluster_kmeans\"]==0])\n",
        "print(\"Number of movies in cluster 0:\", (df[\"cluster_kmeans\"] == 0).sum())"
      ]
    },
    {
      "cell_type": "markdown",
      "id": "34334c6c",
      "metadata": {
        "id": "34334c6c"
      },
      "source": [
        "**Q4.2** Does this clustering seem alright to you (based on your movie watching history)? Are there movies that go well together and movies that don't?"
      ]
    },
    {
      "cell_type": "markdown",
      "id": "9f1d40cc",
      "metadata": {
        "id": "9f1d40cc"
      },
      "source": [
        "I don't know if Pirates of the Caribbean is very similar to Titanic, in terms of genre and type of movie. Maybe boats sinking is a common theme, but I doubt that viewers select based on that."
      ]
    },
    {
      "cell_type": "markdown",
      "id": "0407f9e4",
      "metadata": {
        "id": "0407f9e4"
      },
      "source": [
        "**Q4.3** Now, we'll figure out whether using the elbow method is right for this dataset. Plot a loss (using `kmeans.inertia_`) versus cluster size plot. Is there an elbow that you see clearly? What cluster size would you choose?"
      ]
    },
    {
      "cell_type": "markdown",
      "id": "4984dcd9",
      "metadata": {
        "id": "4984dcd9"
      },
      "source": [
        "I would say the elbow point is approximately between 6 and 8, so let's do 7."
      ]
    },
    {
      "cell_type": "code",
      "execution_count": null,
      "id": "cb3a37ee",
      "metadata": {
        "id": "cb3a37ee",
        "colab": {
          "base_uri": "https://localhost:8080/",
          "height": 472
        },
        "outputId": "084d80be-1944-43d7-a83c-cf1426150bf4"
      },
      "outputs": [
        {
          "output_type": "display_data",
          "data": {
            "text/plain": [
              "<Figure size 640x480 with 1 Axes>"
            ],
            "image/png": "[encoded data removed]"
          },
          "metadata": {}
        }
      ],
      "source": [
        "wcss = [] # your code answer here\n",
        "\n",
        "k_values = range(1, 25)\n",
        "\n",
        "for k in k_values:\n",
        "  kmeans = KMeans(n_clusters=k)\n",
        "  kmeans.fit(X_pca)\n",
        "  wcss.append(kmeans.inertia_)\n",
        "\n",
        "\n",
        "plt.plot(k_values, wcss, marker = 'o')\n",
        "plt.xlabel('Number of Clusters (k)')\n",
        "plt.ylabel('Within-Cluster Sum of Squares (WCSS)')\n",
        "plt.title('Elbow Method')\n",
        "plt.show()"
      ]
    },
    {
      "cell_type": "markdown",
      "id": "3e89e224",
      "metadata": {
        "id": "3e89e224"
      },
      "source": [
        "# Q5 Gaussian Mixture Models\n",
        "\n",
        "**Q5.1** As with the K-means above, cluster the movies based on the features that were extracted via PCA in a previous step. Set $K=20$. Add the predicted cluster into the dataframe as a new column called `cluster_gmm`. Print out the elements of a single cluster of your choice from the dataframe."
      ]
    },
    {
      "cell_type": "code",
      "execution_count": null,
      "id": "86735028",
      "metadata": {
        "id": "86735028",
        "colab": {
          "base_uri": "https://localhost:8080/"
        },
        "outputId": "903f0a5a-2280-4774-89e3-2f4015c424b1"
      },
      "outputs": [
        {
          "output_type": "stream",
          "name": "stdout",
          "text": [
            "                                       title  \\\n",
            "146                          Die Another Day   \n",
            "205                        The Bourne Legacy   \n",
            "300                                 Hercules   \n",
            "343        Cloudy with a Chance of Meatballs   \n",
            "355   Alvin and the Chipmunks: The Road Chip   \n",
            "...                                      ...   \n",
            "4410                                   After   \n",
            "4416                The Kentucky Fried Movie   \n",
            "4517                                Dogtooth   \n",
            "4615                When the Lights Went Out   \n",
            "4640                             Open Secret   \n",
            "\n",
            "                                               overview  \\\n",
            "146   Bond takes on a North Korean leader who underg...   \n",
            "205   New CIA operative, Aaron Cross experiences lif...   \n",
            "300   Fourteen hundred years ago, a tormented soul w...   \n",
            "343   Inventor Flint Lockwood creates a machine that...   \n",
            "355   Through a series of misunderstandings, Alvin, ...   \n",
            "...                                                 ...   \n",
            "4410  When two bus crash survivors awake to discover...   \n",
            "4416  A series of loosely connected skits that spoof...   \n",
            "4517  Three teenagers are confined to an isolated co...   \n",
            "4615  Yorkshire, 1974, the Maynard family moves into...   \n",
            "4640  A couple discovers that their friend has gone ...   \n",
            "\n",
            "                                                 genres proc_genres  \\\n",
            "146   [{\"id\": 12, \"name\": \"Adventure\"}, {\"id\": 28, \"...    Thriller   \n",
            "205   [{\"id\": 28, \"name\": \"Action\"}, {\"id\": 53, \"nam...      Action   \n",
            "300   [{\"id\": 28, \"name\": \"Action\"}, {\"id\": 12, \"nam...   Adventure   \n",
            "343   [{\"id\": 16, \"name\": \"Animation\"}, {\"id\": 35, \"...      Comedy   \n",
            "355   [{\"id\": 12, \"name\": \"Adventure\"}, {\"id\": 16, \"...   Adventure   \n",
            "...                                                 ...         ...   \n",
            "4410  [{\"id\": 9648, \"name\": \"Mystery\"}, {\"id\": 53, \"...     Mystery   \n",
            "4416                     [{\"id\": 35, \"name\": \"Comedy\"}]      Comedy   \n",
            "4517                      [{\"id\": 18, \"name\": \"Drama\"}]       Drama   \n",
            "4615  [{\"id\": 53, \"name\": \"Thriller\"}, {\"id\": 18, \"n...    Thriller   \n",
            "4640  [{\"id\": 80, \"name\": \"Crime\"}, {\"id\": 9648, \"na...       Crime   \n",
            "\n",
            "                                         one_hot_genres  \\\n",
            "146   [0.0, 0.0, 0.0, 0.0, 0.0, 0.0, 0.0, 0.0, 0.0, ...   \n",
            "205   [1.0, 0.0, 0.0, 0.0, 0.0, 0.0, 0.0, 0.0, 0.0, ...   \n",
            "300   [0.0, 1.0, 0.0, 0.0, 0.0, 0.0, 0.0, 0.0, 0.0, ...   \n",
            "343   [0.0, 0.0, 0.0, 1.0, 0.0, 0.0, 0.0, 0.0, 0.0, ...   \n",
            "355   [0.0, 1.0, 0.0, 0.0, 0.0, 0.0, 0.0, 0.0, 0.0, ...   \n",
            "...                                                 ...   \n",
            "4410  [0.0, 0.0, 0.0, 0.0, 0.0, 0.0, 0.0, 0.0, 0.0, ...   \n",
            "4416  [0.0, 0.0, 0.0, 1.0, 0.0, 0.0, 0.0, 0.0, 0.0, ...   \n",
            "4517  [0.0, 0.0, 0.0, 0.0, 0.0, 0.0, 1.0, 0.0, 0.0, ...   \n",
            "4615  [0.0, 0.0, 0.0, 0.0, 0.0, 0.0, 0.0, 0.0, 0.0, ...   \n",
            "4640  [0.0, 0.0, 0.0, 0.0, 1.0, 0.0, 0.0, 0.0, 0.0, ...   \n",
            "\n",
            "                                          proc_overview  overview_len  \\\n",
            "146   [bond, takes, on, a, north, korean, leader, wh...            43   \n",
            "205   [new, cia, operative, aaron, cross, experience...            19   \n",
            "300   [fourteen, hundred, years, ago, a, tormented, ...           169   \n",
            "343   [inventor, flint, lockwood, creates, a, machin...            54   \n",
            "355   [through, a, series, of, misunderstandings, al...            41   \n",
            "...                                                 ...           ...   \n",
            "4410  [when, two, bus, crash, survivors, awake, to, ...            57   \n",
            "4416  [a, series, of, loosely, connected, skits, tha...            38   \n",
            "4517  [three, teenagers, are, confined, to, an, isol...            84   \n",
            "4615  [yorkshire, 1974, the, maynard, family, moves,...            67   \n",
            "4640  [a, couple, discovers, that, their, friend, ha...            21   \n",
            "\n",
            "                                       one_hot_overview  \\\n",
            "146   [0.0, 0.0, 0.0, 0.0, 0.0, 0.0, 0.0, 0.0, 0.0, ...   \n",
            "205   [0.0, 0.0, 0.0, 0.0, 0.0, 0.0, 0.0, 0.0, 0.0, ...   \n",
            "300   [0.0, 0.0, 0.0, 0.0, 0.0, 0.0, 0.0, 0.0, 0.0, ...   \n",
            "343   [0.0, 0.0, 0.0, 0.0, 0.0, 0.0, 0.0, 0.0, 0.0, ...   \n",
            "355   [0.0, 0.0, 0.0, 0.0, 0.0, 0.0, 0.0, 0.0, 0.0, ...   \n",
            "...                                                 ...   \n",
            "4410  [0.0, 0.0, 0.0, 0.0, 0.0, 0.0, 0.0, 0.0, 0.0, ...   \n",
            "4416  [0.0, 0.0, 0.0, 0.0, 0.0, 0.0, 0.0, 0.0, 0.0, ...   \n",
            "4517  [0.0, 0.0, 0.0, 0.0, 0.0, 0.0, 0.0, 0.0, 0.0, ...   \n",
            "4615  [0.0, 0.0, 0.0, 0.0, 0.0, 0.0, 0.0, 0.0, 0.0, ...   \n",
            "4640  [0.0, 0.0, 0.0, 0.0, 0.0, 0.0, 0.0, 0.0, 0.0, ...   \n",
            "\n",
            "                                           overview_pca  cluster_kmeans  \\\n",
            "146   [-0.7214952341123814, -0.1506033393224538, -0....              18   \n",
            "205   [0.5941679219727876, -0.6337384290414823, 0.12...              17   \n",
            "300   [0.03522427531277281, 0.17281722839923438, 0.1...              17   \n",
            "343   [0.04239192852891394, 0.17768365582742301, 0.1...              17   \n",
            "355   [-0.5315655331367475, -0.2563836504475508, -0....              19   \n",
            "...                                                 ...             ...   \n",
            "4410  [0.501959451866758, -0.9036502711363653, 0.798...              17   \n",
            "4416  [-0.3879809586307222, 0.14408097226995326, -0....              18   \n",
            "4517  [-0.2328840106983082, -1.26389267737932, 0.617...              16   \n",
            "4615  [0.035899120391565946, 0.10828621013947339, 0....              17   \n",
            "4640  [-0.8189521123897827, -0.5176268470855888, 0.5...              18   \n",
            "\n",
            "      cluster_gmm  \n",
            "146             0  \n",
            "205             0  \n",
            "300             0  \n",
            "343             0  \n",
            "355             0  \n",
            "...           ...  \n",
            "4410            0  \n",
            "4416            0  \n",
            "4517            0  \n",
            "4615            0  \n",
            "4640            0  \n",
            "\n",
            "[95 rows x 11 columns]\n"
          ]
        }
      ],
      "source": [
        "# Your code answer\n",
        "from sklearn.mixture import GaussianMixture\n",
        "import numpy as np\n",
        "\n",
        "X_pca = np.stack(df[\"overview_pca\"].values)\n",
        "gmm = GaussianMixture(n_components=20)\n",
        "gmm.fit(X_pca)\n",
        "gmm_preds = gmm.predict(X_pca)\n",
        "df[\"cluster_gmm\"] = gmm_preds\n",
        "print(df[df[\"cluster_gmm\"]==0])"
      ]
    },
    {
      "cell_type": "markdown",
      "id": "95ed02d9",
      "metadata": {
        "id": "95ed02d9"
      },
      "source": [
        "**Q4.2** Does this clustering seem alright to you (based on your movie watching history)? Are there movies that go well together and movies that don't? How does this compare to K-Means Clustering?"
      ]
    },
    {
      "cell_type": "markdown",
      "id": "c62e20dd",
      "metadata": {
        "id": "c62e20dd"
      },
      "source": [
        "Overall pretty  decent, but I would not put James Bond in the same list as the Chipmunks."
      ]
    },
    {
      "cell_type": "markdown",
      "id": "3b0064a1",
      "metadata": {
        "id": "3b0064a1"
      },
      "source": [
        "**Q4.3** Let's check out the size of the clusters. Create a double bar plot (**as you did in the last assignment**) showing the different sizes of the clusters.\n",
        "\n",
        "*Hint: you may want to consider `df.value_counts()` if you're unfamiliar.*"
      ]
    },
    {
      "cell_type": "code",
      "execution_count": null,
      "id": "e775ad4f",
      "metadata": {
        "id": "e775ad4f",
        "colab": {
          "base_uri": "https://localhost:8080/",
          "height": 472
        },
        "outputId": "e303ca9e-aeb5-4690-e5eb-b2f179a3cee4"
      },
      "outputs": [
        {
          "output_type": "display_data",
          "data": {
            "text/plain": [
              "<Figure size 640x480 with 1 Axes>"
            ],
            "image/png": "[encoded data removed]"
          },
          "metadata": {}
        }
      ],
      "source": [
        "import matplotlib.pyplot as plt\n",
        "import numpy as np\n",
        "\n",
        "# Create an array for the x-axis positions\n",
        "clusters = range(20)\n",
        "\n",
        "kmeans_counts = df[\"cluster_kmeans\"].value_counts().sort_index()\n",
        "gmm_counts = df[\"cluster_gmm\"].value_counts().sort_index()\n",
        "kmeans_sizes = [kmeans_counts.get(i, 0) for i in clusters]\n",
        "gmm_sizes = [gmm_counts.get(i, 0) for i in clusters]\n",
        "\n",
        "x = np.arange(len(clusters))\n",
        "\n",
        "# Plotting the bars\n",
        "bar_width = 0.4\n",
        "plt.bar(x - bar_width/2, kmeans_sizes, width=bar_width, label='KMeans')\n",
        "plt.bar(x + bar_width/2, gmm_sizes, width=bar_width, label='GMM')\n",
        "\n",
        "# Add labels, title, and legend\n",
        "plt.xlabel('Cluster ID')\n",
        "plt.ylabel('Number of Movies')\n",
        "plt.title('Cluster Sizes: KMeans vs GMM')\n",
        "\n",
        "plt.legend()\n",
        "plt.show()\n"
      ]
    },
    {
      "cell_type": "markdown",
      "id": "cfc124da",
      "metadata": {
        "id": "cfc124da"
      },
      "source": [
        "**Q4.4** Do you see a significant difference in the sizes of the clusters? Which is more uniform? Any thought on why?"
      ]
    },
    {
      "cell_type": "markdown",
      "id": "9f538519",
      "metadata": {
        "id": "9f538519"
      },
      "source": [
        "There appears to be a difference in how big the clusters are. Kmeans makes clusters that are more even in size, while GMM ends up with some that are much bigger or smaller. This is because KMeans splits the data based on distance, so it spreads things out more evenly. GMM uses probabilities and allows groups to take on different shapes, so some clusters end up getting more or fewer points depending on how the data fits."
      ]
    },
    {
      "cell_type": "markdown",
      "id": "aa60615d",
      "metadata": {
        "id": "aa60615d"
      },
      "source": [
        "# Q6: A very simple recommender system\n",
        "\n",
        "One useful thing that clustering is often used for (though at a much greater complexity) is in **recommender systems**. These are systems with users and items (movies, files, documents, etc.), where new items are shown to the user based on what they've previously interacted with, and possibly also on the behaviour of other users.\n",
        "\n",
        "**Q6.1** Assume your dentist has just watched the movie Avatar and asks you for a recommendation. Lucky for you, you just finished this assignment. Using the cluster indices of the movie Avatar for both the K-means and GMM methods, print out suggestions for new movies."
      ]
    },
    {
      "cell_type": "code",
      "execution_count": null,
      "id": "86a74f68",
      "metadata": {
        "id": "86a74f68",
        "colab": {
          "base_uri": "https://localhost:8080/"
        },
        "outputId": "02ddf8c7-91fd-443b-ec5d-772b98b086d1"
      },
      "outputs": [
        {
          "output_type": "stream",
          "name": "stdout",
          "text": [
            "KMeans recommendations:\n",
            "60                             Jupiter Ascending\n",
            "77                               The Jungle Book\n",
            "89                             The Polar Express\n",
            "116            Charlie and the Chocolate Factory\n",
            "229    Star Wars: Episode I - The Phantom Menace\n",
            "296                            Starship Troopers\n",
            "318                            The Fifth Element\n",
            "348                                        Mulan\n",
            "388                                   Safe House\n",
            "437                                       Robots\n",
            "Name: title, dtype: object\n",
            "\n",
            "GMM recommendations:\n",
            "58                                          2012\n",
            "83                                      47 Ronin\n",
            "156                       Exodus: Gods and Kings\n",
            "200                                    Fast Five\n",
            "229    Star Wars: Episode I - The Phantom Menace\n",
            "256                                 Ender's Game\n",
            "291                                  The Tourist\n",
            "292                                  End of Days\n",
            "344               Ice Age: Dawn of the Dinosaurs\n",
            "366                             Now You See Me 2\n",
            "Name: title, dtype: object\n"
          ]
        }
      ],
      "source": [
        "prev_watch = \"Avatar\"\n",
        "\n",
        "cluster_kmeans = df[df[\"title\"] == prev_watch][\"cluster_kmeans\"].values[0]# find what cluster index Avatar falls into for k-means\n",
        "cluster_gmm = df[df[\"title\"] == prev_watch][\"cluster_gmm\"].values[0] # find what cluster index Avatar falls into for gmm\n",
        "\n",
        "# print out similar movies\n",
        "print(\"KMeans recommendations:\")\n",
        "same_cluster = df[df[\"cluster_kmeans\"] == cluster_kmeans]\n",
        "recommendations = same_cluster[same_cluster[\"title\"] != prev_watch]\n",
        "print(recommendations[\"title\"].head(10))\n",
        "\n",
        "print(\"\\nGMM recommendations:\")\n",
        "same_cluster = df[df[\"cluster_gmm\"] == cluster_gmm]\n",
        "recommendations = same_cluster[same_cluster[\"title\"] != prev_watch]\n",
        "print(recommendations[\"title\"].head(10))"
      ]
    },
    {
      "cell_type": "code",
      "source": [],
      "metadata": {
        "id": "bdhF-9tmKjST"
      },
      "id": "bdhF-9tmKjST",
      "execution_count": null,
      "outputs": []
    },
    {
      "cell_type": "markdown",
      "id": "4ecec1ff",
      "metadata": {
        "id": "4ecec1ff"
      },
      "source": [
        "**Q6.2** Are any of the two recommender systems any good? Would you use them if your real dentist asks for a movie suggestion?"
      ]
    },
    {
      "cell_type": "markdown",
      "id": "aae96b8a",
      "metadata": {
        "id": "aae96b8a"
      },
      "source": [
        "They are not terrible, but I would not say they are very very good. For example Ice Age does not really seem similar to Avatar."
      ]
    },
    {
      "cell_type": "markdown",
      "id": "92b84753",
      "metadata": {
        "id": "92b84753"
      },
      "source": [
        "**Q6.3** How would you try making the recommender systems better?"
      ]
    },
    {
      "cell_type": "markdown",
      "id": "40d3f6dd",
      "metadata": {
        "id": "40d3f6dd"
      },
      "source": [
        "To improve the recommender systems, I would use more features like genres or user ratings, not just overview text. I would also try cosine similarity since it can give better matches than clustering alone. Adding user history could help make results more personal."
      ]
    },
    {
      "cell_type": "markdown",
      "id": "7df2d34a",
      "metadata": {
        "id": "7df2d34a"
      },
      "source": [
        "**Q6.4** Say your dentist likes the movies you suggested and has watched a few more since you met him last. How would you incorporate this fact (recommendation based on multiple movies) into your suggestions?"
      ]
    },
    {
      "cell_type": "markdown",
      "id": "b3549de4",
      "metadata": {
        "id": "b3549de4"
      },
      "source": [
        "I would take the average of the PCA vectors for all the movies the dentist liked and then I would use this combined vector to find other movies that are most similar. This will give a recommendation based on overall preferences instead of just one movie."
      ]
    },
    {
      "cell_type": "markdown",
      "id": "f20b74ce",
      "metadata": {
        "id": "f20b74ce"
      },
      "source": [
        "**Q6.5** An alternative method for recommendations is to use your encoded movie-feature vectors (in this case your overview+PCA vector) in order to find out what movie may be most similar to the current one. In the case of K-Means and GMMs, \"similarity\" referred to Euclidean distance. However, in this exercise, we will use *cosine similarity*, which is another very common similarity measure, and is related to the angle between two vectors. It is defined as:\n",
        "\n",
        "$$sim(v_1, v_2)=\\frac{v_1\\cdot v_2}{||v_1||\\cdot||v_2||}$$\n",
        "\n",
        "Where $v_1$ and $v_2$ are vectors and the operator $||\\cdot||$ is the norm of the vector. The function ranges from $[-1,1]$ (where 1 means that the vectors point in the same direction).\n",
        "\n",
        "Define an appropriate function `cosine_sim`. Add a column called `cos_sim_to_avatar` in the df and print out the head of the df, sorted by the similarity. What movies would you recommend now? Is this better than the clustering methods?"
      ]
    },
    {
      "cell_type": "code",
      "execution_count": null,
      "id": "cedf60f3",
      "metadata": {
        "id": "cedf60f3",
        "colab": {
          "base_uri": "https://localhost:8080/"
        },
        "outputId": "0ee59c56-e45c-4cf1-d564-e4c1f00630c6"
      },
      "outputs": [
        {
          "output_type": "stream",
          "name": "stdout",
          "text": [
            "3318                         Warlock\n",
            "1272              Nomad: The Warrior\n",
            "3725                          Zipper\n",
            "411                            Dredd\n",
            "2900                    Barry Lyndon\n",
            "628                       The Matrix\n",
            "273                    Casino Royale\n",
            "552                          Jarhead\n",
            "769                        Supernova\n",
            "307     The Adventures of Pluto Nash\n",
            "Name: title, dtype: object\n"
          ]
        }
      ],
      "source": [
        "def cosine_sim(v1, v2):\n",
        "    return np.dot(v1, v2) / (np.linalg.norm(v1) * np.linalg.norm(v2))\n",
        "\n",
        "# get overview_pca encoding of previously watched film\n",
        "prev_watch = 'Avatar'\n",
        "prev_watch_enc = df[df[\"title\"] == prev_watch][\"overview_pca\"].values[0]\n",
        "\n",
        "sims = [] # set up place to store similarities\n",
        "for i, row in df.iterrows():\n",
        "    sims.append(cosine_sim(prev_watch_enc, row[\"overview_pca\"]))\n",
        "\n",
        "df[\"cos_sim_to_avatar\"] = sims\n",
        "recommendations = df[df[\"title\"] != prev_watch].sort_values(\"cos_sim_to_avatar\", ascending=False)\n",
        "print(recommendations[\"title\"].head(10))"
      ]
    },
    {
      "cell_type": "markdown",
      "id": "40391e82",
      "metadata": {
        "id": "40391e82"
      },
      "source": [
        "I would recommend the 10 above. However, I would not say Warlock (a horror movie) is the most similar to Avatar. Therefore it might be better overall, but definitely not incredible."
      ]
    },
    {
      "cell_type": "markdown",
      "id": "a7b1e343",
      "metadata": {
        "id": "a7b1e343"
      },
      "source": [
        "# Q7 Unsupervised Learning as a Tool\n",
        "\n",
        "At the end of this brief forey into natural language processing, we will end with an interesting task: can a machine predict the genre of a movie based purely on the first 10 words of its overview?\n",
        "\n",
        "First, the following cell shuffles the dataset and splits it into a training and test set. The random seed and random state ensure that the train and test samples are the same for you all the time, and *probably* your classmates too. You can verify this by printing out the dataframes and checking it for yourself."
      ]
    },
    {
      "cell_type": "code",
      "execution_count": null,
      "id": "f5b1bde1",
      "metadata": {
        "id": "f5b1bde1",
        "colab": {
          "base_uri": "https://localhost:8080/"
        },
        "outputId": "5913d664-2951-447c-94e1-9e9aa4e178f4"
      },
      "outputs": [
        {
          "output_type": "stream",
          "name": "stdout",
          "text": [
            "3765 942\n"
          ]
        }
      ],
      "source": [
        "np.random.seed(0)\n",
        "n_train = int(0.8*len(df))\n",
        "df_shuffle = df.sample(frac=1, random_state=42).reset_index(drop=True)\n",
        "df_train = df_shuffle[:n_train].reset_index(drop=True)\n",
        "df_test = df_shuffle[n_train:].reset_index(drop=True)\n",
        "print(len(df_train), len(df_test))"
      ]
    },
    {
      "cell_type": "markdown",
      "id": "92f9d534",
      "metadata": {
        "id": "92f9d534"
      },
      "source": [
        "## Train, test, evaluate\n",
        "\n",
        "Using a supervised learning method of your choice, try predicting the genre of a movie from the overview. The way you preprocess your data is up to you, and you can take inspiration from the above exercises (e.g. PCA on the one-hot encodings as input, one-hot label encodings as output). There are a number of hyperparameters you can choose depending on your selected method (number of words in your overview, number of dimensions, number of clusters, hyperparameters of your supervised model...), thus, make sure to perform hyperparameter optimization in some way (grid-search, fine-tuning, etc). Once you are happy with how your model is performing, **print out the train_score (accuracy$\\in[0,1]$), test_score (accuracy$\\in[0,1]$), mean training time (in seconds), and mean inference time (in seconds) of your model**.\n",
        "\n",
        "If you are already excited about neural networks, you may also choose to use that as your supervised method. The easiest way to do it is with sklearn's `MLPClassifier` module. The main hyperparameter you would need to tune is the architecture of your model -- how many hidden layers, and how large is each one. For this task, in order to get best performance, you do not necessarily need an MLP (multi-layer perceptron) but feel free to experiment.\n",
        "\n",
        "*Hint: the `train_and_eval` function from the last assignment should be of great help here*"
      ]
    },
    {
      "cell_type": "code",
      "execution_count": null,
      "id": "e9ac379d",
      "metadata": {
        "id": "e9ac379d",
        "colab": {
          "base_uri": "https://localhost:8080/",
          "height": 1000
        },
        "outputId": "0552eb75-e8f3-4112-ea13-daf600ca42c9"
      },
      "outputs": [
        {
          "output_type": "stream",
          "name": "stdout",
          "text": [
            "train size: 3765\n",
            "test size: 942\n",
            "train accuracy: 0.3208\n",
            "test accuracy: 0.2463\n",
            "mean training time (s): 0.9919\n",
            "mean inference time (s): 2.3e-05\n"
          ]
        },
        {
          "output_type": "display_data",
          "data": {
            "text/plain": [
              "<Figure size 1000x1000 with 2 Axes>"
            ],
            "image/png": "[encoded data removed]"
          },
          "metadata": {}
        },
        {
          "output_type": "display_data",
          "data": {
            "text/plain": [
              "<Figure size 640x480 with 1 Axes>"
            ],
            "image/png": "[encoded data removed]"
          },
          "metadata": {}
        }
      ],
      "source": [
        "from sklearn.decomposition import PCA\n",
        "from sklearn.neural_network import MLPClassifier\n",
        "from sklearn.metrics import accuracy_score, confusion_matrix, ConfusionMatrixDisplay\n",
        "import matplotlib.pyplot as plt\n",
        "import time\n",
        "import numpy as np\n",
        "\n",
        "x = np.stack(df[\"one_hot_overview\"].values)\n",
        "pca_model = PCA(n_components=300)\n",
        "x_reduced = pca_model.fit_transform(x)\n",
        "df[\"overview_pca_small\"] = list(x_reduced)\n",
        "\n",
        "np.random.seed(0)\n",
        "n_train = int(0.8 * len(df))\n",
        "df_shuffle = df.sample(frac=1, random_state=42).reset_index(drop=True)\n",
        "df_train = df_shuffle[:n_train].reset_index(drop=True)\n",
        "df_test = df_shuffle[n_train:].reset_index(drop=True)\n",
        "print(\"train size:\", len(df_train))\n",
        "print(\"test size:\", len(df_test))\n",
        "\n",
        "x_train = np.stack(df_train[\"overview_pca_small\"].values)\n",
        "x_test = np.stack(df_test[\"overview_pca_small\"].values)\n",
        "y_train = np.stack(df_train[\"one_hot_genres\"].values)\n",
        "y_test = np.stack(df_test[\"one_hot_genres\"].values)\n",
        "\n",
        "y_train_class = np.argmax(y_train, axis=1)\n",
        "y_test_class = np.argmax(y_test, axis=1)\n",
        "\n",
        "start_train = time.time()\n",
        "model = MLPClassifier(hidden_layer_sizes=(64,), max_iter=300, alpha=0.001, early_stopping=True, random_state=0)\n",
        "model.fit(x_train, y_train_class)\n",
        "end_train = time.time()\n",
        "training_time = end_train - start_train\n",
        "\n",
        "start_infer = time.time()\n",
        "y_train_pred = model.predict(x_train)\n",
        "y_test_pred = model.predict(x_test)\n",
        "end_infer = time.time()\n",
        "inference_time = end_infer - start_infer\n",
        "\n",
        "train_score = accuracy_score(y_train_class, y_train_pred)\n",
        "test_score = accuracy_score(y_test_class, y_test_pred)\n",
        "\n",
        "print(\"train accuracy:\", round(train_score, 4))\n",
        "print(\"test accuracy:\", round(test_score, 4))\n",
        "print(\"mean training time (s):\", round(training_time, 4))\n",
        "print(\"mean inference time (s):\", round(inference_time / len(x_test), 6))\n",
        "\n",
        "cm = confusion_matrix(y_test_class, y_test_pred)\n",
        "unique_genres = sorted(list(set(df[\"proc_genres\"])))\n",
        "genre_names = [unique_genres[i] for i in sorted(np.unique(y_test_class))]\n",
        "\n",
        "fig, ax = plt.subplots(figsize=(10, 10))\n",
        "disp = ConfusionMatrixDisplay(confusion_matrix=cm, display_labels=genre_names)\n",
        "disp.plot(ax=ax, xticks_rotation='vertical')\n",
        "plt.title(\"confusion matrix\")\n",
        "plt.show()\n",
        "\n",
        "plt.plot(np.cumsum(pca_model.explained_variance_ratio_))\n",
        "plt.xlabel(\"number of components\")\n",
        "plt.ylabel(\"cumulative explained variance\")\n",
        "plt.title(\"pca explained variance\")\n",
        "plt.grid(True)\n",
        "plt.show()\n",
        "\n"
      ]
    },
    {
      "cell_type": "markdown",
      "id": "5976997e",
      "metadata": {
        "id": "5976997e"
      },
      "source": [
        "Write a paragraph of ~150 words about how you went about selecting and tuning your model, and how you may want to make improvements to your model if you were to continue working on this. Plots are very good but not strictly necessary (i.e. try to add plots if you can)."
      ]
    },
    {
      "cell_type": "markdown",
      "id": "54186a60",
      "metadata": {
        "id": "54186a60"
      },
      "source": [
        "I used an MLPClassifier to predict the genre of a movie using only the first 15 words of its overview. Since the text was one-hot encoded and really high dimensional, I reduced it using PCA. I chose 300 components, which seemed like a good tradeoff based on the PCA explained variance plot. For the model, I went with one hidden layer of size 64, added early stopping, and used some regularization (alpha=0.001) to avoid overfitting. The model trained fast and didn’t overfit badly, but the overall test accuracy was still low (around 25 percent). The confusion matrix showed that most genres were getting confused with Drama and Comedy, which probably just have more training samples. If I kept working on this, I’d try balancing the genre classes or using better text features like TF-IDF instead of basic one-hot counts. Maybe even test a non-neural method like logistic regression or random forests just to compare.\n",
        "\n"
      ]
    },
    {
      "cell_type": "markdown",
      "id": "14b50007",
      "metadata": {
        "id": "14b50007"
      },
      "source": [
        "# BONUS\n",
        "\n",
        "If you are happy with your score and wish to see how well it is doing with respect to other people (a sort of mini-competition), fill out the following form with the train_score (accuracy$\\in[0,1]$), test_score (accuracy$\\in[0,1]$), mean training time (in seconds), and mean inference time (in seconds) of your model, as well as what method you use. You can submit as many times before the deadline as you wish. Your final results will be correlated with your submission in order to validate your results (if we cannot validate them, they will be immediately disqualified).\n",
        "\n",
        "[FORM HERE](https://forms.gle/rXRtXScABH5oDLRWA)"
      ]
    }
  ],
  "metadata": {
    "kernelspec": {
      "display_name": "Python 3 (ipykernel)",
      "language": "python",
      "name": "python3"
    },
    "language_info": {
      "codemirror_mode": {
        "name": "ipython",
        "version": 3
      },
      "file_extension": ".py",
      "mimetype": "text/x-python",
      "name": "python",
      "nbconvert_exporter": "python",
      "pygments_lexer": "ipython3",
      "version": "3.10.7"
    },
    "colab": {
      "provenance": []
    }
  },
  "nbformat": 4,
  "nbformat_minor": 5
}